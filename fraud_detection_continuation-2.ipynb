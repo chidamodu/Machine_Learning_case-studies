{
 "cells": [
  {
   "cell_type": "code",
   "execution_count": null,
   "metadata": {
    "collapsed": true
   },
   "outputs": [],
   "source": [
    "#Planning to visualize these dataframes to get an idea. Although both have event ids, I can't merge them as event-id mentioned\n",
    "#in df_payout is the id of the events related to previous payouts and the event-id in df_ticket represents the event-id of current events\n",
    "#It might be a better idea to index df_payouts on userid instead as there is only one userid on every row and that would\n",
    "#make more sense. And the df_ticket can be indexed on event_id as there is only one event-id in every list of dictionaries\n",
    "#on every row.\n",
    "\n",
    "df_payouts=df_payouts.set_index('event')\n",
    "df_ticket=df_ticket.set_index('event_id')"
   ]
  }
 ],
 "metadata": {
  "kernelspec": {
   "display_name": "Python [conda root]",
   "language": "python",
   "name": "conda-root-py"
  },
  "language_info": {
   "codemirror_mode": {
    "name": "ipython",
    "version": 3
   },
   "file_extension": ".py",
   "mimetype": "text/x-python",
   "name": "python",
   "nbconvert_exporter": "python",
   "pygments_lexer": "ipython3",
   "version": "3.5.4"
  }
 },
 "nbformat": 4,
 "nbformat_minor": 2
}
