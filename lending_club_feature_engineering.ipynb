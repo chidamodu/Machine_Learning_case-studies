{
 "cells": [
  {
   "cell_type": "code",
   "execution_count": 1,
   "metadata": {
    "scrolled": true
   },
   "outputs": [
    {
     "data": {
      "text/html": [
       "<div>\n",
       "<style>\n",
       "    .dataframe thead tr:only-child th {\n",
       "        text-align: right;\n",
       "    }\n",
       "\n",
       "    .dataframe thead th {\n",
       "        text-align: left;\n",
       "    }\n",
       "\n",
       "    .dataframe tbody tr th {\n",
       "        vertical-align: top;\n",
       "    }\n",
       "</style>\n",
       "<table border=\"1\" class=\"dataframe\">\n",
       "  <thead>\n",
       "    <tr style=\"text-align: right;\">\n",
       "      <th></th>\n",
       "      <th>loan_amnt</th>\n",
       "      <th>term</th>\n",
       "      <th>int_rate</th>\n",
       "      <th>emp_length</th>\n",
       "      <th>home_ownership</th>\n",
       "      <th>annual_inc</th>\n",
       "      <th>purpose</th>\n",
       "      <th>addr_state</th>\n",
       "      <th>dti</th>\n",
       "      <th>delinq_2yrs</th>\n",
       "      <th>revol_util</th>\n",
       "      <th>total_acc</th>\n",
       "      <th>bad_loan</th>\n",
       "      <th>longest_credit_length</th>\n",
       "      <th>verification_status</th>\n",
       "    </tr>\n",
       "  </thead>\n",
       "  <tbody>\n",
       "    <tr>\n",
       "      <th>0</th>\n",
       "      <td>5000</td>\n",
       "      <td>36 months</td>\n",
       "      <td>10.65</td>\n",
       "      <td>10.0</td>\n",
       "      <td>RENT</td>\n",
       "      <td>24000.0</td>\n",
       "      <td>credit_card</td>\n",
       "      <td>AZ</td>\n",
       "      <td>27.65</td>\n",
       "      <td>0.0</td>\n",
       "      <td>83.7</td>\n",
       "      <td>9.0</td>\n",
       "      <td>0</td>\n",
       "      <td>26.0</td>\n",
       "      <td>verified</td>\n",
       "    </tr>\n",
       "    <tr>\n",
       "      <th>1</th>\n",
       "      <td>2500</td>\n",
       "      <td>60 months</td>\n",
       "      <td>15.27</td>\n",
       "      <td>0.0</td>\n",
       "      <td>RENT</td>\n",
       "      <td>30000.0</td>\n",
       "      <td>car</td>\n",
       "      <td>GA</td>\n",
       "      <td>1.00</td>\n",
       "      <td>0.0</td>\n",
       "      <td>9.4</td>\n",
       "      <td>4.0</td>\n",
       "      <td>1</td>\n",
       "      <td>12.0</td>\n",
       "      <td>verified</td>\n",
       "    </tr>\n",
       "    <tr>\n",
       "      <th>2</th>\n",
       "      <td>2400</td>\n",
       "      <td>36 months</td>\n",
       "      <td>15.96</td>\n",
       "      <td>10.0</td>\n",
       "      <td>RENT</td>\n",
       "      <td>12252.0</td>\n",
       "      <td>small_business</td>\n",
       "      <td>IL</td>\n",
       "      <td>8.72</td>\n",
       "      <td>0.0</td>\n",
       "      <td>98.5</td>\n",
       "      <td>10.0</td>\n",
       "      <td>0</td>\n",
       "      <td>10.0</td>\n",
       "      <td>not verified</td>\n",
       "    </tr>\n",
       "    <tr>\n",
       "      <th>3</th>\n",
       "      <td>10000</td>\n",
       "      <td>36 months</td>\n",
       "      <td>13.49</td>\n",
       "      <td>10.0</td>\n",
       "      <td>RENT</td>\n",
       "      <td>49200.0</td>\n",
       "      <td>other</td>\n",
       "      <td>CA</td>\n",
       "      <td>20.00</td>\n",
       "      <td>0.0</td>\n",
       "      <td>21.0</td>\n",
       "      <td>37.0</td>\n",
       "      <td>0</td>\n",
       "      <td>15.0</td>\n",
       "      <td>verified</td>\n",
       "    </tr>\n",
       "    <tr>\n",
       "      <th>4</th>\n",
       "      <td>5000</td>\n",
       "      <td>36 months</td>\n",
       "      <td>7.90</td>\n",
       "      <td>3.0</td>\n",
       "      <td>RENT</td>\n",
       "      <td>36000.0</td>\n",
       "      <td>wedding</td>\n",
       "      <td>AZ</td>\n",
       "      <td>11.20</td>\n",
       "      <td>0.0</td>\n",
       "      <td>28.3</td>\n",
       "      <td>12.0</td>\n",
       "      <td>0</td>\n",
       "      <td>7.0</td>\n",
       "      <td>verified</td>\n",
       "    </tr>\n",
       "  </tbody>\n",
       "</table>\n",
       "</div>"
      ],
      "text/plain": [
       "   loan_amnt       term  int_rate  emp_length home_ownership  annual_inc  \\\n",
       "0       5000  36 months     10.65        10.0           RENT     24000.0   \n",
       "1       2500  60 months     15.27         0.0           RENT     30000.0   \n",
       "2       2400  36 months     15.96        10.0           RENT     12252.0   \n",
       "3      10000  36 months     13.49        10.0           RENT     49200.0   \n",
       "4       5000  36 months      7.90         3.0           RENT     36000.0   \n",
       "\n",
       "          purpose addr_state    dti  delinq_2yrs  revol_util  total_acc  \\\n",
       "0     credit_card         AZ  27.65          0.0        83.7        9.0   \n",
       "1             car         GA   1.00          0.0         9.4        4.0   \n",
       "2  small_business         IL   8.72          0.0        98.5       10.0   \n",
       "3           other         CA  20.00          0.0        21.0       37.0   \n",
       "4         wedding         AZ  11.20          0.0        28.3       12.0   \n",
       "\n",
       "   bad_loan  longest_credit_length verification_status  \n",
       "0         0                   26.0            verified  \n",
       "1         1                   12.0            verified  \n",
       "2         0                   10.0        not verified  \n",
       "3         0                   15.0            verified  \n",
       "4         0                    7.0            verified  "
      ]
     },
     "execution_count": 1,
     "metadata": {},
     "output_type": "execute_result"
    }
   ],
   "source": [
    "#the goal is to predict bad_loan\n",
    "import pandas as pd\n",
    "df=pd.read_csv('/Users/chidam/Desktop/lending_club_loan.csv')\n",
    "df.head()"
   ]
  },
  {
   "cell_type": "code",
   "execution_count": 2,
   "metadata": {
    "collapsed": true
   },
   "outputs": [],
   "source": [
    "#First convert months into years. So 36 months become 3 (years) and 60 months become 5 (years)\n",
    "df['term'] = [3 if x == '36 months' else 5 for x in df['term']]"
   ]
  },
  {
   "cell_type": "code",
   "execution_count": 3,
   "metadata": {
    "scrolled": true
   },
   "outputs": [
    {
     "data": {
      "text/plain": [
       "163987"
      ]
     },
     "execution_count": 3,
     "metadata": {},
     "output_type": "execute_result"
    }
   ],
   "source": [
    "len(df)"
   ]
  },
  {
   "cell_type": "code",
   "execution_count": 5,
   "metadata": {
    "scrolled": true
   },
   "outputs": [
    {
     "data": {
      "text/plain": [
       "30016"
      ]
     },
     "execution_count": 5,
     "metadata": {},
     "output_type": "execute_result"
    }
   ],
   "source": [
    "#Checking how many bad loans are in the dataset. This is the minority class label and as expected\n",
    "#its count is much smaller than the majority class label: bad_loan==0 (if bad_loan==1 then it is a bad loan )\n",
    "len(df[df['bad_loan']==1])"
   ]
  },
  {
   "cell_type": "code",
   "execution_count": 7,
   "metadata": {},
   "outputs": [
    {
     "data": {
      "text/plain": [
       "133971"
      ]
     },
     "execution_count": 7,
     "metadata": {},
     "output_type": "execute_result"
    }
   ],
   "source": [
    "#Checking how many non-bad loans are in the dataset. The number of non-bad loans outnumbers the number of bad loans giving\n",
    "#rise to a situation of an imbalanced dataset \n",
    "len(df[df['bad_loan']==0]) #(if bad_loan==0 then it is not a bad loan )"
   ]
  },
  {
   "cell_type": "code",
   "execution_count": 71,
   "metadata": {},
   "outputs": [
    {
     "ename": "SyntaxError",
     "evalue": "invalid syntax (<ipython-input-71-a283ef6daae6>, line 1)",
     "output_type": "error",
     "traceback": [
      "\u001b[0;36m  File \u001b[0;32m\"<ipython-input-71-a283ef6daae6>\"\u001b[0;36m, line \u001b[0;32m1\u001b[0m\n\u001b[0;31m    dti: debt to income ratio (<=40)\u001b[0m\n\u001b[0m       ^\u001b[0m\n\u001b[0;31mSyntaxError\u001b[0m\u001b[0;31m:\u001b[0m invalid syntax\n"
     ]
    }
   ],
   "source": [
    "dti: debt to income ratio (<=40)\n",
    "\n",
    "\n",
    "\n"
   ]
  },
  {
   "cell_type": "code",
   "execution_count": 8,
   "metadata": {
    "scrolled": false
   },
   "outputs": [
    {
     "data": {
      "text/plain": [
       "array([  9.,   4.,  10.,  37.,  12.,  13.,   3.,  23.,  34.,  11.,  29.,\n",
       "        28.,  42.,  14.,  38.,  21.,  17.,   7.,  31.,  22.,  44.,  26.,\n",
       "        16.,   6.,  18.,  27.,  25.,  40.,  35.,  24.,   8.,  20.,  15.,\n",
       "        19.,  36.,  51.,  32.,  30.,  33.,  46.,   5.,  61.,  56.,  50.,\n",
       "        41.,  79.,  43.,  47.,  53.,  45.,  60.,  55.,  39.,  52.,  58.,\n",
       "        54.,  57.,  49.,  63.,  48.,  59.,  62.,  77.,  87.,  75.,  72.,\n",
       "        64.,  67.,  78.,  76.,  74.,  66.,  81.,  90.,  80.,  71.,  69.,\n",
       "        73.,  70.,  68.,  65.,   2.,   1.,  nan,  88.,  82.,  91.,  99.,\n",
       "        92.,  85.,  93.,  83.,  84., 118.,  94., 102.,  95.])"
      ]
     },
     "execution_count": 8,
     "metadata": {},
     "output_type": "execute_result"
    }
   ],
   "source": [
    "df['total_acc'].unique()"
   ]
  },
  {
   "cell_type": "code",
   "execution_count": 9,
   "metadata": {},
   "outputs": [
    {
     "data": {
      "text/plain": [
       "dtype('int64')"
      ]
     },
     "execution_count": 9,
     "metadata": {},
     "output_type": "execute_result"
    }
   ],
   "source": [
    "#let's check whether the column term is of integer type\n",
    "df['term'].dtype\n",
    "    "
   ]
  },
  {
   "cell_type": "code",
   "execution_count": 10,
   "metadata": {},
   "outputs": [
    {
     "data": {
      "text/plain": [
       "array(['RENT', 'OWN', 'MORTGAGE', 'OTHER', 'NONE', 'ANY'], dtype=object)"
      ]
     },
     "execution_count": 10,
     "metadata": {},
     "output_type": "execute_result"
    }
   ],
   "source": [
    "#next step is to convert the columns with text values into numeric type\n",
    "#Does None mean the customers do not own any home?\n",
    "df['home_ownership'].unique()"
   ]
  },
  {
   "cell_type": "code",
   "execution_count": 11,
   "metadata": {},
   "outputs": [
    {
     "data": {
      "text/plain": [
       "array(['credit_card', 'car', 'small_business', 'other', 'wedding',\n",
       "       'debt_consolidation', 'home_improvement', 'major_purchase',\n",
       "       'medical', 'moving', 'vacation', 'house', 'renewable_energy',\n",
       "       'educational'], dtype=object)"
      ]
     },
     "execution_count": 11,
     "metadata": {},
     "output_type": "execute_result"
    }
   ],
   "source": [
    "#check with Ram whether they collect any evidence from customers to prove the purpose\n",
    "df['purpose'].unique()"
   ]
  },
  {
   "cell_type": "code",
   "execution_count": 12,
   "metadata": {
    "scrolled": true
   },
   "outputs": [
    {
     "data": {
      "text/plain": [
       "array(['verified', 'not verified'], dtype=object)"
      ]
     },
     "execution_count": 12,
     "metadata": {},
     "output_type": "execute_result"
    }
   ],
   "source": [
    "df['verification_status'].unique()"
   ]
  },
  {
   "cell_type": "code",
   "execution_count": 13,
   "metadata": {},
   "outputs": [
    {
     "data": {
      "text/plain": [
       "50"
      ]
     },
     "execution_count": 13,
     "metadata": {},
     "output_type": "execute_result"
    }
   ],
   "source": [
    "len(df['addr_state'].unique())"
   ]
  },
  {
   "cell_type": "code",
   "execution_count": 14,
   "metadata": {
    "collapsed": true
   },
   "outputs": [],
   "source": [
    "#first try to convert the text values into numeric ones using pd.get_dummies\n",
    "df = pd.concat([df.drop('home_ownership', axis=1), pd.get_dummies(df['home_ownership'], drop_first=True)], axis=1)"
   ]
  },
  {
   "cell_type": "code",
   "execution_count": 15,
   "metadata": {
    "collapsed": true
   },
   "outputs": [],
   "source": [
    "#To convert the column: purpose the similar way as above \n",
    "df = pd.concat([df.drop('purpose', axis=1), pd.get_dummies(df['purpose'], drop_first=True)], axis=1)"
   ]
  },
  {
   "cell_type": "code",
   "execution_count": 16,
   "metadata": {
    "collapsed": true
   },
   "outputs": [],
   "source": [
    "#It is time to convert the verification_status column values. To make it bit more punitive efficient have assigned -1 to 'not verified' value in the column: verification_status\n",
    "#df['verification_status'] = [1 if x == 'verified' else -1 for x in df['verification_status']]\n",
    "df = pd.concat([df.drop('verification_status', axis=1), pd.get_dummies(df['verification_status'], drop_first=True)], axis=1)"
   ]
  },
  {
   "cell_type": "code",
   "execution_count": 17,
   "metadata": {
    "collapsed": true
   },
   "outputs": [],
   "source": [
    "#The column: addr_state has 50 states as values so there will be a lot of 1s and 0s. But for now going to stick with pd.get_dummies\n",
    "df = pd.concat([df.drop('addr_state', axis=1), pd.get_dummies(df['addr_state'], drop_first=True)], axis=1)"
   ]
  },
  {
   "cell_type": "code",
   "execution_count": 18,
   "metadata": {
    "collapsed": true
   },
   "outputs": [],
   "source": [
    "df = df.fillna(0)"
   ]
  },
  {
   "cell_type": "code",
   "execution_count": 19,
   "metadata": {
    "collapsed": true,
    "scrolled": true
   },
   "outputs": [],
   "source": [
    "#Assign y the values to be predicted\n",
    "y=df['bad_loan'].values"
   ]
  },
  {
   "cell_type": "code",
   "execution_count": 20,
   "metadata": {
    "collapsed": true
   },
   "outputs": [],
   "source": [
    "#y=pd.factorize(df['bad_loan'].values)[0].reshape(-1, 1)"
   ]
  },
  {
   "cell_type": "code",
   "execution_count": 21,
   "metadata": {},
   "outputs": [
    {
     "data": {
      "text/plain": [
       "array([0, 1, 0, ..., 0, 0, 0])"
      ]
     },
     "execution_count": 21,
     "metadata": {},
     "output_type": "execute_result"
    }
   ],
   "source": [
    "y"
   ]
  },
  {
   "cell_type": "code",
   "execution_count": 22,
   "metadata": {
    "collapsed": true
   },
   "outputs": [],
   "source": [
    "#Drop y from the rest of the dataframe and assign the result to X\n",
    "df=df.drop('bad_loan', axis=1)"
   ]
  },
  {
   "cell_type": "code",
   "execution_count": 23,
   "metadata": {
    "collapsed": true
   },
   "outputs": [],
   "source": [
    "#df.columns = df.iloc[0]\n"
   ]
  },
  {
   "cell_type": "code",
   "execution_count": 24,
   "metadata": {
    "collapsed": true
   },
   "outputs": [],
   "source": [
    "#df.isnull().any()"
   ]
  },
  {
   "cell_type": "code",
   "execution_count": 25,
   "metadata": {
    "collapsed": true
   },
   "outputs": [],
   "source": [
    "X=df.values"
   ]
  },
  {
   "cell_type": "code",
   "execution_count": 26,
   "metadata": {
    "scrolled": false
   },
   "outputs": [
    {
     "data": {
      "text/plain": [
       "array([[5.0000e+03, 3.0000e+00, 1.0650e+01, ..., 0.0000e+00, 0.0000e+00,\n",
       "        0.0000e+00],\n",
       "       [2.5000e+03, 5.0000e+00, 1.5270e+01, ..., 0.0000e+00, 0.0000e+00,\n",
       "        0.0000e+00],\n",
       "       [2.4000e+03, 3.0000e+00, 1.5960e+01, ..., 0.0000e+00, 0.0000e+00,\n",
       "        0.0000e+00],\n",
       "       ...,\n",
       "       [1.2825e+04, 3.0000e+00, 1.7140e+01, ..., 0.0000e+00, 0.0000e+00,\n",
       "        0.0000e+00],\n",
       "       [2.7650e+04, 5.0000e+00, 2.1990e+01, ..., 0.0000e+00, 0.0000e+00,\n",
       "        0.0000e+00],\n",
       "       [1.7000e+04, 5.0000e+00, 1.5990e+01, ..., 0.0000e+00, 0.0000e+00,\n",
       "        0.0000e+00]])"
      ]
     },
     "execution_count": 26,
     "metadata": {},
     "output_type": "execute_result"
    }
   ],
   "source": [
    "X"
   ]
  },
  {
   "cell_type": "code",
   "execution_count": 27,
   "metadata": {
    "collapsed": true
   },
   "outputs": [],
   "source": [
    "#Have to know more about the fields in order to meaningfully assign values to null values in the dataset. For now keeping\n",
    "#it simple and replacing all the null values in the dataset with 0\n"
   ]
  },
  {
   "cell_type": "code",
   "execution_count": 28,
   "metadata": {
    "collapsed": true,
    "scrolled": true
   },
   "outputs": [],
   "source": [
    "#X.isnull().any()"
   ]
  },
  {
   "cell_type": "code",
   "execution_count": 29,
   "metadata": {
    "collapsed": true
   },
   "outputs": [],
   "source": [
    "#While doing this step be cautious, because if you refresh it again and again then you risk exposing all parts of the dataset to the model\n",
    "#So there is literally no separate or untouched test set\n",
    "from sklearn.model_selection import train_test_split\n",
    "X_train, X_test, y_train, y_test = train_test_split(X, y, test_size=0.25, random_state=42)\n",
    "\n",
    "#Not planning to touch X_test and y_test as they are the real test data"
   ]
  },
  {
   "cell_type": "code",
   "execution_count": 30,
   "metadata": {
    "collapsed": true
   },
   "outputs": [],
   "source": [
    "#Fitting Logistic Regression model to the data"
   ]
  },
  {
   "cell_type": "code",
   "execution_count": 31,
   "metadata": {
    "collapsed": true
   },
   "outputs": [],
   "source": [
    "#Getting training and validation sets from X_train and y_train. The ideais to keep the X_test and y_test aside\n",
    "X_train1, X_valid1, y_train1, y_valid1=train_test_split(X_train, y_train, random_state=42)\n",
    "\n",
    "#Planning to use X_train1, y_train1 for training set and\n",
    "#X_valid1, y_valid1 for validation set"
   ]
  },
  {
   "cell_type": "code",
   "execution_count": 32,
   "metadata": {},
   "outputs": [
    {
     "data": {
      "text/plain": [
       "92242"
      ]
     },
     "execution_count": 32,
     "metadata": {},
     "output_type": "execute_result"
    }
   ],
   "source": [
    "len(X_train1)"
   ]
  },
  {
   "cell_type": "code",
   "execution_count": 33,
   "metadata": {
    "scrolled": true
   },
   "outputs": [
    {
     "data": {
      "text/plain": [
       "92242"
      ]
     },
     "execution_count": 33,
     "metadata": {},
     "output_type": "execute_result"
    }
   ],
   "source": [
    "len(y_train1)"
   ]
  },
  {
   "cell_type": "code",
   "execution_count": 34,
   "metadata": {},
   "outputs": [
    {
     "data": {
      "text/plain": [
       "(30748,)"
      ]
     },
     "execution_count": 34,
     "metadata": {},
     "output_type": "execute_result"
    }
   ],
   "source": [
    "y_valid1.shape"
   ]
  },
  {
   "cell_type": "code",
   "execution_count": 35,
   "metadata": {
    "collapsed": true
   },
   "outputs": [],
   "source": [
    "from sklearn.linear_model import LogisticRegression\n",
    "clf = LogisticRegression(random_state=0, solver='lbfgs', multi_class='ovr').fit(X_train1, y_train1)\n"
   ]
  },
  {
   "cell_type": "code",
   "execution_count": 36,
   "metadata": {
    "collapsed": true,
    "scrolled": true
   },
   "outputs": [],
   "source": [
    "y_pred=clf.predict(X_valid1)"
   ]
  },
  {
   "cell_type": "code",
   "execution_count": 37,
   "metadata": {},
   "outputs": [
    {
     "data": {
      "text/plain": [
       "(30748,)"
      ]
     },
     "execution_count": 37,
     "metadata": {},
     "output_type": "execute_result"
    }
   ],
   "source": [
    "y_pred.shape"
   ]
  },
  {
   "cell_type": "code",
   "execution_count": 38,
   "metadata": {},
   "outputs": [
    {
     "name": "stdout",
     "output_type": "stream",
     "text": [
      "             precision    recall  f1-score   support\n",
      "\n",
      "          0       0.82      1.00      0.90     25200\n",
      "          1       1.00      0.00      0.00      5548\n",
      "\n",
      "avg / total       0.85      0.82      0.74     30748\n",
      "\n"
     ]
    }
   ],
   "source": [
    "from sklearn.metrics import classification_report\n",
    "print(classification_report(y_valid1, y_pred))"
   ]
  },
  {
   "cell_type": "code",
   "execution_count": 39,
   "metadata": {
    "collapsed": true,
    "scrolled": true
   },
   "outputs": [],
   "source": [
    "#clf.score(y_pred, y_valid1)"
   ]
  },
  {
   "cell_type": "code",
   "execution_count": 40,
   "metadata": {
    "scrolled": true
   },
   "outputs": [
    {
     "data": {
      "text/plain": [
       "RandomForestClassifier(bootstrap=True, class_weight=None, criterion='gini',\n",
       "            max_depth=2, max_features='auto', max_leaf_nodes=None,\n",
       "            min_impurity_decrease=0.0, min_impurity_split=None,\n",
       "            min_samples_leaf=1, min_samples_split=2,\n",
       "            min_weight_fraction_leaf=0.0, n_estimators=100, n_jobs=1,\n",
       "            oob_score=False, random_state=0, verbose=0, warm_start=False)"
      ]
     },
     "execution_count": 40,
     "metadata": {},
     "output_type": "execute_result"
    }
   ],
   "source": [
    "from sklearn.ensemble import RandomForestClassifier\n",
    "\n",
    "clf_rf = RandomForestClassifier(n_estimators=100, max_depth=2,random_state=0)\n",
    "clf_rf.fit(X_train1, y_train1)"
   ]
  },
  {
   "cell_type": "code",
   "execution_count": 41,
   "metadata": {
    "collapsed": true
   },
   "outputs": [],
   "source": [
    "y_pred_rf=clf_rf.predict(X_valid1)"
   ]
  },
  {
   "cell_type": "code",
   "execution_count": 42,
   "metadata": {},
   "outputs": [
    {
     "name": "stdout",
     "output_type": "stream",
     "text": [
      "             precision    recall  f1-score   support\n",
      "\n",
      "          0       0.82      1.00      0.90     25200\n",
      "          1       0.00      0.00      0.00      5548\n",
      "\n",
      "avg / total       0.67      0.82      0.74     30748\n",
      "\n"
     ]
    },
    {
     "name": "stderr",
     "output_type": "stream",
     "text": [
      "/Users/chidam/anaconda/lib/python3.5/site-packages/sklearn/metrics/classification.py:1135: UndefinedMetricWarning: Precision and F-score are ill-defined and being set to 0.0 in labels with no predicted samples.\n",
      "  'precision', 'predicted', average, warn_for)\n"
     ]
    }
   ],
   "source": [
    "from sklearn.metrics import classification_report\n",
    "print(classification_report(y_valid1, y_pred_rf))"
   ]
  },
  {
   "cell_type": "code",
   "execution_count": 43,
   "metadata": {},
   "outputs": [
    {
     "data": {
      "text/plain": [
       "AdaBoostClassifier(algorithm='SAMME.R', base_estimator=None,\n",
       "          learning_rate=1.0, n_estimators=100, random_state=40)"
      ]
     },
     "execution_count": 43,
     "metadata": {},
     "output_type": "execute_result"
    }
   ],
   "source": [
    "from sklearn.ensemble import AdaBoostClassifier\n",
    "clf_ada=AdaBoostClassifier(base_estimator=None, n_estimators=100, learning_rate=1.0, algorithm='SAMME.R', random_state=40)\n",
    "clf_ada.fit(X_train1, y_train1)"
   ]
  },
  {
   "cell_type": "code",
   "execution_count": 44,
   "metadata": {
    "collapsed": true
   },
   "outputs": [],
   "source": [
    "y_pred_ada=clf_ada.predict(X_valid1)"
   ]
  },
  {
   "cell_type": "code",
   "execution_count": 45,
   "metadata": {
    "scrolled": true
   },
   "outputs": [
    {
     "name": "stdout",
     "output_type": "stream",
     "text": [
      "             precision    recall  f1-score   support\n",
      "\n",
      "          0       0.82      0.99      0.90     25200\n",
      "          1       0.47      0.03      0.05      5548\n",
      "\n",
      "avg / total       0.76      0.82      0.75     30748\n",
      "\n"
     ]
    }
   ],
   "source": [
    "print(classification_report(y_valid1, y_pred_ada))"
   ]
  },
  {
   "cell_type": "code",
   "execution_count": null,
   "metadata": {
    "collapsed": true
   },
   "outputs": [],
   "source": [
    "#I haven't tested the above three models' performance on unseen test data. Before that going to illustrate few significant\n",
    "measure of doing powerful feature engineering"
   ]
  },
  {
   "cell_type": "code",
   "execution_count": 238,
   "metadata": {
    "collapsed": true
   },
   "outputs": [],
   "source": [
    "#Now let us see the importance of feature engineering and when done fairly right what it can bring to table\n",
    "\n",
    "df2=pd.read_csv('/Users/chidam/Desktop/lending_club_loan.csv')\n"
   ]
  },
  {
   "cell_type": "code",
   "execution_count": 239,
   "metadata": {
    "scrolled": true
   },
   "outputs": [
    {
     "data": {
      "text/html": [
       "<div>\n",
       "<style>\n",
       "    .dataframe thead tr:only-child th {\n",
       "        text-align: right;\n",
       "    }\n",
       "\n",
       "    .dataframe thead th {\n",
       "        text-align: left;\n",
       "    }\n",
       "\n",
       "    .dataframe tbody tr th {\n",
       "        vertical-align: top;\n",
       "    }\n",
       "</style>\n",
       "<table border=\"1\" class=\"dataframe\">\n",
       "  <thead>\n",
       "    <tr style=\"text-align: right;\">\n",
       "      <th></th>\n",
       "      <th>loan_amnt</th>\n",
       "      <th>term</th>\n",
       "      <th>int_rate</th>\n",
       "      <th>emp_length</th>\n",
       "      <th>home_ownership</th>\n",
       "      <th>annual_inc</th>\n",
       "      <th>purpose</th>\n",
       "      <th>addr_state</th>\n",
       "      <th>dti</th>\n",
       "      <th>delinq_2yrs</th>\n",
       "      <th>revol_util</th>\n",
       "      <th>total_acc</th>\n",
       "      <th>bad_loan</th>\n",
       "      <th>longest_credit_length</th>\n",
       "      <th>verification_status</th>\n",
       "    </tr>\n",
       "  </thead>\n",
       "  <tbody>\n",
       "    <tr>\n",
       "      <th>0</th>\n",
       "      <td>5000</td>\n",
       "      <td>36 months</td>\n",
       "      <td>10.65</td>\n",
       "      <td>10.0</td>\n",
       "      <td>RENT</td>\n",
       "      <td>24000.0</td>\n",
       "      <td>credit_card</td>\n",
       "      <td>AZ</td>\n",
       "      <td>27.65</td>\n",
       "      <td>0.0</td>\n",
       "      <td>83.7</td>\n",
       "      <td>9.0</td>\n",
       "      <td>0</td>\n",
       "      <td>26.0</td>\n",
       "      <td>verified</td>\n",
       "    </tr>\n",
       "    <tr>\n",
       "      <th>1</th>\n",
       "      <td>2500</td>\n",
       "      <td>60 months</td>\n",
       "      <td>15.27</td>\n",
       "      <td>0.0</td>\n",
       "      <td>RENT</td>\n",
       "      <td>30000.0</td>\n",
       "      <td>car</td>\n",
       "      <td>GA</td>\n",
       "      <td>1.00</td>\n",
       "      <td>0.0</td>\n",
       "      <td>9.4</td>\n",
       "      <td>4.0</td>\n",
       "      <td>1</td>\n",
       "      <td>12.0</td>\n",
       "      <td>verified</td>\n",
       "    </tr>\n",
       "    <tr>\n",
       "      <th>2</th>\n",
       "      <td>2400</td>\n",
       "      <td>36 months</td>\n",
       "      <td>15.96</td>\n",
       "      <td>10.0</td>\n",
       "      <td>RENT</td>\n",
       "      <td>12252.0</td>\n",
       "      <td>small_business</td>\n",
       "      <td>IL</td>\n",
       "      <td>8.72</td>\n",
       "      <td>0.0</td>\n",
       "      <td>98.5</td>\n",
       "      <td>10.0</td>\n",
       "      <td>0</td>\n",
       "      <td>10.0</td>\n",
       "      <td>not verified</td>\n",
       "    </tr>\n",
       "    <tr>\n",
       "      <th>3</th>\n",
       "      <td>10000</td>\n",
       "      <td>36 months</td>\n",
       "      <td>13.49</td>\n",
       "      <td>10.0</td>\n",
       "      <td>RENT</td>\n",
       "      <td>49200.0</td>\n",
       "      <td>other</td>\n",
       "      <td>CA</td>\n",
       "      <td>20.00</td>\n",
       "      <td>0.0</td>\n",
       "      <td>21.0</td>\n",
       "      <td>37.0</td>\n",
       "      <td>0</td>\n",
       "      <td>15.0</td>\n",
       "      <td>verified</td>\n",
       "    </tr>\n",
       "    <tr>\n",
       "      <th>4</th>\n",
       "      <td>5000</td>\n",
       "      <td>36 months</td>\n",
       "      <td>7.90</td>\n",
       "      <td>3.0</td>\n",
       "      <td>RENT</td>\n",
       "      <td>36000.0</td>\n",
       "      <td>wedding</td>\n",
       "      <td>AZ</td>\n",
       "      <td>11.20</td>\n",
       "      <td>0.0</td>\n",
       "      <td>28.3</td>\n",
       "      <td>12.0</td>\n",
       "      <td>0</td>\n",
       "      <td>7.0</td>\n",
       "      <td>verified</td>\n",
       "    </tr>\n",
       "  </tbody>\n",
       "</table>\n",
       "</div>"
      ],
      "text/plain": [
       "   loan_amnt       term  int_rate  emp_length home_ownership  annual_inc  \\\n",
       "0       5000  36 months     10.65        10.0           RENT     24000.0   \n",
       "1       2500  60 months     15.27         0.0           RENT     30000.0   \n",
       "2       2400  36 months     15.96        10.0           RENT     12252.0   \n",
       "3      10000  36 months     13.49        10.0           RENT     49200.0   \n",
       "4       5000  36 months      7.90         3.0           RENT     36000.0   \n",
       "\n",
       "          purpose addr_state    dti  delinq_2yrs  revol_util  total_acc  \\\n",
       "0     credit_card         AZ  27.65          0.0        83.7        9.0   \n",
       "1             car         GA   1.00          0.0         9.4        4.0   \n",
       "2  small_business         IL   8.72          0.0        98.5       10.0   \n",
       "3           other         CA  20.00          0.0        21.0       37.0   \n",
       "4         wedding         AZ  11.20          0.0        28.3       12.0   \n",
       "\n",
       "   bad_loan  longest_credit_length verification_status  \n",
       "0         0                   26.0            verified  \n",
       "1         1                   12.0            verified  \n",
       "2         0                   10.0        not verified  \n",
       "3         0                   15.0            verified  \n",
       "4         0                    7.0            verified  "
      ]
     },
     "execution_count": 239,
     "metadata": {},
     "output_type": "execute_result"
    }
   ],
   "source": [
    "df2.head()"
   ]
  },
  {
   "cell_type": "code",
   "execution_count": 240,
   "metadata": {
    "collapsed": true
   },
   "outputs": [],
   "source": [
    "#First convert months into years. So 36 months become 3 (years) and 60 months become 5 (years)\n",
    "df2['term'] = [3 if x == '36 months' else 5 for x in df2['term']]"
   ]
  },
  {
   "cell_type": "code",
   "execution_count": 241,
   "metadata": {
    "collapsed": true
   },
   "outputs": [],
   "source": [
    "df2.loc[df2['verification_status']=='not verified', 'verification_status']=-1\n",
    "\n",
    "df2.loc[df2['verification_status']=='verified', 'verification_status']=1\n",
    "\n"
   ]
  },
  {
   "cell_type": "code",
   "execution_count": 242,
   "metadata": {
    "scrolled": true
   },
   "outputs": [
    {
     "data": {
      "text/plain": [
       "0     1\n",
       "1     1\n",
       "2    -1\n",
       "3     1\n",
       "4     1\n",
       "Name: verification_status, dtype: object"
      ]
     },
     "execution_count": 242,
     "metadata": {},
     "output_type": "execute_result"
    }
   ],
   "source": [
    "df2['verification_status'].head()"
   ]
  },
  {
   "cell_type": "code",
   "execution_count": 243,
   "metadata": {},
   "outputs": [
    {
     "data": {
      "text/html": [
       "<div>\n",
       "<style>\n",
       "    .dataframe thead tr:only-child th {\n",
       "        text-align: right;\n",
       "    }\n",
       "\n",
       "    .dataframe thead th {\n",
       "        text-align: left;\n",
       "    }\n",
       "\n",
       "    .dataframe tbody tr th {\n",
       "        vertical-align: top;\n",
       "    }\n",
       "</style>\n",
       "<table border=\"1\" class=\"dataframe\">\n",
       "  <thead>\n",
       "    <tr style=\"text-align: right;\">\n",
       "      <th></th>\n",
       "      <th>loan_amnt</th>\n",
       "      <th>term</th>\n",
       "      <th>int_rate</th>\n",
       "      <th>emp_length</th>\n",
       "      <th>home_ownership</th>\n",
       "      <th>annual_inc</th>\n",
       "      <th>purpose</th>\n",
       "      <th>addr_state</th>\n",
       "      <th>dti</th>\n",
       "      <th>delinq_2yrs</th>\n",
       "      <th>revol_util</th>\n",
       "      <th>total_acc</th>\n",
       "      <th>bad_loan</th>\n",
       "      <th>longest_credit_length</th>\n",
       "      <th>verification_status</th>\n",
       "    </tr>\n",
       "  </thead>\n",
       "  <tbody>\n",
       "    <tr>\n",
       "      <th>0</th>\n",
       "      <td>5000</td>\n",
       "      <td>3</td>\n",
       "      <td>10.65</td>\n",
       "      <td>10.0</td>\n",
       "      <td>RENT</td>\n",
       "      <td>24000.0</td>\n",
       "      <td>credit_card</td>\n",
       "      <td>AZ</td>\n",
       "      <td>27.65</td>\n",
       "      <td>0.0</td>\n",
       "      <td>83.7</td>\n",
       "      <td>9.0</td>\n",
       "      <td>0</td>\n",
       "      <td>26.0</td>\n",
       "      <td>1</td>\n",
       "    </tr>\n",
       "    <tr>\n",
       "      <th>1</th>\n",
       "      <td>2500</td>\n",
       "      <td>5</td>\n",
       "      <td>15.27</td>\n",
       "      <td>0.0</td>\n",
       "      <td>RENT</td>\n",
       "      <td>30000.0</td>\n",
       "      <td>car</td>\n",
       "      <td>GA</td>\n",
       "      <td>1.00</td>\n",
       "      <td>0.0</td>\n",
       "      <td>9.4</td>\n",
       "      <td>4.0</td>\n",
       "      <td>1</td>\n",
       "      <td>12.0</td>\n",
       "      <td>1</td>\n",
       "    </tr>\n",
       "    <tr>\n",
       "      <th>2</th>\n",
       "      <td>2400</td>\n",
       "      <td>3</td>\n",
       "      <td>15.96</td>\n",
       "      <td>10.0</td>\n",
       "      <td>RENT</td>\n",
       "      <td>12252.0</td>\n",
       "      <td>small_business</td>\n",
       "      <td>IL</td>\n",
       "      <td>8.72</td>\n",
       "      <td>0.0</td>\n",
       "      <td>98.5</td>\n",
       "      <td>10.0</td>\n",
       "      <td>0</td>\n",
       "      <td>10.0</td>\n",
       "      <td>-1</td>\n",
       "    </tr>\n",
       "    <tr>\n",
       "      <th>3</th>\n",
       "      <td>10000</td>\n",
       "      <td>3</td>\n",
       "      <td>13.49</td>\n",
       "      <td>10.0</td>\n",
       "      <td>RENT</td>\n",
       "      <td>49200.0</td>\n",
       "      <td>other</td>\n",
       "      <td>CA</td>\n",
       "      <td>20.00</td>\n",
       "      <td>0.0</td>\n",
       "      <td>21.0</td>\n",
       "      <td>37.0</td>\n",
       "      <td>0</td>\n",
       "      <td>15.0</td>\n",
       "      <td>1</td>\n",
       "    </tr>\n",
       "    <tr>\n",
       "      <th>4</th>\n",
       "      <td>5000</td>\n",
       "      <td>3</td>\n",
       "      <td>7.90</td>\n",
       "      <td>3.0</td>\n",
       "      <td>RENT</td>\n",
       "      <td>36000.0</td>\n",
       "      <td>wedding</td>\n",
       "      <td>AZ</td>\n",
       "      <td>11.20</td>\n",
       "      <td>0.0</td>\n",
       "      <td>28.3</td>\n",
       "      <td>12.0</td>\n",
       "      <td>0</td>\n",
       "      <td>7.0</td>\n",
       "      <td>1</td>\n",
       "    </tr>\n",
       "  </tbody>\n",
       "</table>\n",
       "</div>"
      ],
      "text/plain": [
       "   loan_amnt  term  int_rate  emp_length home_ownership  annual_inc  \\\n",
       "0       5000     3     10.65        10.0           RENT     24000.0   \n",
       "1       2500     5     15.27         0.0           RENT     30000.0   \n",
       "2       2400     3     15.96        10.0           RENT     12252.0   \n",
       "3      10000     3     13.49        10.0           RENT     49200.0   \n",
       "4       5000     3      7.90         3.0           RENT     36000.0   \n",
       "\n",
       "          purpose addr_state    dti  delinq_2yrs  revol_util  total_acc  \\\n",
       "0     credit_card         AZ  27.65          0.0        83.7        9.0   \n",
       "1             car         GA   1.00          0.0         9.4        4.0   \n",
       "2  small_business         IL   8.72          0.0        98.5       10.0   \n",
       "3           other         CA  20.00          0.0        21.0       37.0   \n",
       "4         wedding         AZ  11.20          0.0        28.3       12.0   \n",
       "\n",
       "   bad_loan  longest_credit_length verification_status  \n",
       "0         0                   26.0                   1  \n",
       "1         1                   12.0                   1  \n",
       "2         0                   10.0                  -1  \n",
       "3         0                   15.0                   1  \n",
       "4         0                    7.0                   1  "
      ]
     },
     "execution_count": 243,
     "metadata": {},
     "output_type": "execute_result"
    }
   ],
   "source": [
    "df2.head()"
   ]
  },
  {
   "cell_type": "code",
   "execution_count": 244,
   "metadata": {
    "collapsed": true,
    "scrolled": true
   },
   "outputs": [],
   "source": [
    "#Let's plot features: home_ownership Vs. bad_loan in order to understand how we can meaningfully encode the feature home_ownership\n",
    "\n",
    "\n",
    "#import matplotlib.pyplot as plt\n",
    "import seaborn as sns\n",
    "%matplotlib inline\n",
    "# x = df2['home_ownership'].values\n",
    "# y = df2['bad_loan'].values\n",
    "# plt.boxplot(x, y)\n",
    "# plt.show()\n",
    "\n",
    "#sns.violinplot(x=df2['home_ownership'].values, y=df2['bad_loan'].values);\n",
    "\n",
    "#sns.catplot(x=\"home_ownership\", y=\"bad_loan\", data=[x, y]);\n"
   ]
  },
  {
   "cell_type": "code",
   "execution_count": 50,
   "metadata": {
    "collapsed": true
   },
   "outputs": [],
   "source": [
    "#sns.barplot(x=df2['home_ownership'].values, y=df2['bad_loan'].values);"
   ]
  },
  {
   "cell_type": "code",
   "execution_count": 245,
   "metadata": {
    "collapsed": true
   },
   "outputs": [],
   "source": [
    "#The idea is to filter the dataframe where the condition bad_loan==1 gets satisfied as it will be useful then to groupby\n",
    "#purpose and count the values per each category of the column:purpose\n",
    "df2_purpose1=df2.loc[df2['bad_loan']==1]"
   ]
  },
  {
   "cell_type": "code",
   "execution_count": 246,
   "metadata": {
    "scrolled": true
   },
   "outputs": [
    {
     "data": {
      "text/plain": [
       "array([0, 1, 0, ..., 0, 0, 0])"
      ]
     },
     "execution_count": 246,
     "metadata": {},
     "output_type": "execute_result"
    }
   ],
   "source": [
    "df2['bad_loan'].values"
   ]
  },
  {
   "cell_type": "code",
   "execution_count": 247,
   "metadata": {
    "collapsed": true
   },
   "outputs": [],
   "source": [
    "#Total count of bad_loan per category in the column:home_ownership\n",
    "grouped_loan_home=df2.groupby('home_ownership')['bad_loan'].count()"
   ]
  },
  {
   "cell_type": "code",
   "execution_count": 248,
   "metadata": {},
   "outputs": [
    {
     "data": {
      "text/plain": [
       "home_ownership\n",
       "ANY             1\n",
       "MORTGAGE    79714\n",
       "NONE           30\n",
       "OTHER         156\n",
       "OWN         13560\n",
       "RENT        70526\n",
       "Name: bad_loan, dtype: int64"
      ]
     },
     "execution_count": 248,
     "metadata": {},
     "output_type": "execute_result"
    }
   ],
   "source": [
    "grouped_loan_home"
   ]
  },
  {
   "cell_type": "code",
   "execution_count": 249,
   "metadata": {},
   "outputs": [
    {
     "data": {
      "text/plain": [
       "array(['ANY', 'MORTGAGE', 'NONE', 'OTHER', 'OWN', 'RENT'], dtype=object)"
      ]
     },
     "execution_count": 249,
     "metadata": {},
     "output_type": "execute_result"
    }
   ],
   "source": [
    "grouped_loan_home.index.values"
   ]
  },
  {
   "cell_type": "code",
   "execution_count": 250,
   "metadata": {
    "scrolled": false
   },
   "outputs": [
    {
     "data": {
      "text/plain": [
       "<matplotlib.axes._subplots.AxesSubplot at 0x1156ce6d8>"
      ]
     },
     "execution_count": 250,
     "metadata": {},
     "output_type": "execute_result"
    },
    {
     "data": {
      "image/png": "[encoded data removed]",
      "text/plain": [
       "<matplotlib.figure.Figure at 0x1156d1a90>"
      ]
     },
     "metadata": {},
     "output_type": "display_data"
    }
   ],
   "source": [
    "#I grouped the bad_loan according to categories in home_ownership and plotting the groupedby value and index using seaborn\n",
    "sns.barplot(grouped_loan_home.index.values, grouped_loan1.values)"
   ]
  },
  {
   "cell_type": "code",
   "execution_count": 251,
   "metadata": {
    "collapsed": true
   },
   "outputs": [],
   "source": [
    "# Clearly 'MORTGAGE' and 'RENT' are the dominating categories. Target Encoding can be used to transform the values using the target mean calculated per each category\n",
    "#Let us find out how many of bad_loan==1 are in each category of 'home_ownership'\n",
    "\n",
    "group_loan_home_1=df2_purpose1.groupby('home_ownership')['bad_loan'].count()\n"
   ]
  },
  {
   "cell_type": "code",
   "execution_count": 252,
   "metadata": {
    "collapsed": true
   },
   "outputs": [],
   "source": [
    "encode_home=round(group_loan_home_1/grouped_loan_home, 2)"
   ]
  },
  {
   "cell_type": "code",
   "execution_count": 253,
   "metadata": {
    "scrolled": false
   },
   "outputs": [
    {
     "data": {
      "text/plain": [
       "0    0.2\n",
       "1    0.2\n",
       "2    0.2\n",
       "3    0.2\n",
       "4    0.2\n",
       "Name: home_ownership, dtype: object"
      ]
     },
     "execution_count": 253,
     "metadata": {},
     "output_type": "execute_result"
    }
   ],
   "source": [
    "def target_purpose(x, y, col_name):\n",
    "    for i, v in list(zip(x, y)):\n",
    "        df2.loc[df2[col_name]==i, col_name]=v\n",
    "    return df2[col_name].head()\n",
    "        \n",
    "    \n",
    "target_purpose(encode_home.index.tolist(), encode_home.values, 'home_ownership')"
   ]
  },
  {
   "cell_type": "code",
   "execution_count": 56,
   "metadata": {
    "collapsed": true
   },
   "outputs": [],
   "source": [
    "# annual_inc Vs. loan_amnt\n",
    "#sns.barplot(x=df2['annual_inc'].values, y=df2['loan_amnt'].values);"
   ]
  },
  {
   "cell_type": "code",
   "execution_count": null,
   "metadata": {
    "collapsed": true
   },
   "outputs": [],
   "source": [
    "#Planning to "
   ]
  },
  {
   "cell_type": "code",
   "execution_count": 254,
   "metadata": {},
   "outputs": [
    {
     "data": {
      "text/plain": [
       "array(['credit_card', 'car', 'small_business', 'other', 'wedding',\n",
       "       'debt_consolidation', 'home_improvement', 'major_purchase',\n",
       "       'medical', 'moving', 'vacation', 'house', 'renewable_energy',\n",
       "       'educational'], dtype=object)"
      ]
     },
     "execution_count": 254,
     "metadata": {},
     "output_type": "execute_result"
    }
   ],
   "source": [
    "#Check the Purpose column\n",
    "df2['purpose'].unique()\n",
    "\n"
   ]
  },
  {
   "cell_type": "code",
   "execution_count": 255,
   "metadata": {
    "collapsed": true
   },
   "outputs": [],
   "source": [
    "#Grouping bad_loan by purpose in order to check the distribution for the purpose of encoding\n",
    "\n",
    "grouped_loan_purpose=df2.groupby('purpose')['bad_loan'].count()\n",
    "\n",
    "\n"
   ]
  },
  {
   "cell_type": "code",
   "execution_count": 256,
   "metadata": {
    "collapsed": true
   },
   "outputs": [],
   "source": [
    "grouped_loan_purpose_1=df2_purpose1.groupby('purpose')['bad_loan'].count()"
   ]
  },
  {
   "cell_type": "code",
   "execution_count": 257,
   "metadata": {},
   "outputs": [
    {
     "data": {
      "text/plain": [
       "purpose\n",
       "car                     358\n",
       "credit_card            4843\n",
       "debt_consolidation    17671\n",
       "educational              88\n",
       "home_improvement       1539\n",
       "house                   227\n",
       "major_purchase          643\n",
       "medical                 412\n",
       "moving                  304\n",
       "other                  2249\n",
       "renewable_energy         45\n",
       "small_business         1187\n",
       "vacation                196\n",
       "wedding                 254\n",
       "Name: bad_loan, dtype: int64"
      ]
     },
     "execution_count": 257,
     "metadata": {},
     "output_type": "execute_result"
    }
   ],
   "source": [
    "grouped_loan_purpose_1"
   ]
  },
  {
   "cell_type": "code",
   "execution_count": 258,
   "metadata": {},
   "outputs": [
    {
     "data": {
      "text/plain": [
       "verification_status\n",
       "-1     8961\n",
       " 1    21055\n",
       "Name: bad_loan, dtype: int64"
      ]
     },
     "execution_count": 258,
     "metadata": {},
     "output_type": "execute_result"
    }
   ],
   "source": [
    "#To check how the not verified category of verification_status Vs. bad_loan==1\n",
    "\n",
    "group_status=df2_purpose1.groupby('verification_status')['bad_loan'].count()\n",
    "\n",
    "group_status"
   ]
  },
  {
   "cell_type": "code",
   "execution_count": 259,
   "metadata": {
    "scrolled": true
   },
   "outputs": [
    {
     "data": {
      "text/plain": [
       "0.15148339109120107"
      ]
     },
     "execution_count": 259,
     "metadata": {},
     "output_type": "execute_result"
    }
   ],
   "source": [
    "8961/59155"
   ]
  },
  {
   "cell_type": "code",
   "execution_count": 260,
   "metadata": {
    "scrolled": true
   },
   "outputs": [
    {
     "data": {
      "text/plain": [
       "0.2008451617826618"
      ]
     },
     "execution_count": 260,
     "metadata": {},
     "output_type": "execute_result"
    }
   ],
   "source": [
    "21055/104832"
   ]
  },
  {
   "cell_type": "code",
   "execution_count": 261,
   "metadata": {},
   "outputs": [
    {
     "data": {
      "text/plain": [
       "purpose\n",
       "car                    2842\n",
       "credit_card           30792\n",
       "debt_consolidation    93261\n",
       "educational             418\n",
       "home_improvement       9872\n",
       "house                  1245\n",
       "major_purchase         4686\n",
       "medical                2029\n",
       "moving                 1464\n",
       "other                 10492\n",
       "renewable_energy        198\n",
       "small_business         3841\n",
       "vacation               1096\n",
       "wedding                1751\n",
       "Name: bad_loan, dtype: int64"
      ]
     },
     "execution_count": 261,
     "metadata": {},
     "output_type": "execute_result"
    }
   ],
   "source": [
    "grouped_loan_purpose\n",
    "\n",
    "# I get a lot of 1s and 0s if I use pd.get_dummies to encode this field as used above in part:1 but it is not a good strategy to encode \n",
    "# information as it might cause multicollinearity amongst predictor variables. What is the problem of multicollinearity? One of the problems is that the higher\n",
    "# the multicollinearity higher the standard error. \n",
    "\n",
    "# Clearly, debt_consolidation, credit_card, other are the prominent categories with debt_consolidation leading in the rank of quantity.\n",
    "\n",
    "# Target encoding could be a good strategy to have all the categories but with meaningful frequency values."
   ]
  },
  {
   "cell_type": "code",
   "execution_count": 262,
   "metadata": {
    "scrolled": true
   },
   "outputs": [
    {
     "data": {
      "image/png": "[encoded data removed]",
      "text/plain": [
       "<matplotlib.figure.Figure at 0x114fb4908>"
      ]
     },
     "metadata": {},
     "output_type": "display_data"
    }
   ],
   "source": [
    "import matplotlib.pyplot as plt\n",
    "# plt.figure(figsize=(8,4))\n",
    "\n",
    "ax = sns.barplot(grouped_loan_purpose.index.values, grouped_loan_purpose.values)\n",
    "ax.set_xticklabels(ax.get_xticklabels(), rotation=40, ha=\"right\")\n",
    "plt.tight_layout()\n",
    "plt.show()"
   ]
  },
  {
   "cell_type": "code",
   "execution_count": 263,
   "metadata": {
    "collapsed": true
   },
   "outputs": [],
   "source": [
    "#Checking the verification_status column to see how many bad loans does each category consists of\n",
    "group_loan_status=df2.groupby('verification_status')['bad_loan'].count()"
   ]
  },
  {
   "cell_type": "code",
   "execution_count": 264,
   "metadata": {},
   "outputs": [
    {
     "data": {
      "text/plain": [
       "verification_status\n",
       "-1     59155\n",
       " 1    104832\n",
       "Name: bad_loan, dtype: int64"
      ]
     },
     "execution_count": 264,
     "metadata": {},
     "output_type": "execute_result"
    }
   ],
   "source": [
    "group_loan_status\n",
    "\n",
    "#The not verified category in the column: verification_status comes across as the majority and the verified category obviously as the \n",
    "#minority one. Because it is a binary variable category I am going to encode the not verified with -1 and the verified ones with 1\n"
   ]
  },
  {
   "cell_type": "code",
   "execution_count": 265,
   "metadata": {
    "scrolled": true
   },
   "outputs": [
    {
     "data": {
      "text/plain": [
       "purpose\n",
       "car                   0.13\n",
       "credit_card           0.16\n",
       "debt_consolidation    0.19\n",
       "educational           0.21\n",
       "home_improvement      0.16\n",
       "house                 0.18\n",
       "major_purchase        0.14\n",
       "medical               0.20\n",
       "moving                0.21\n",
       "other                 0.21\n",
       "renewable_energy      0.23\n",
       "small_business        0.31\n",
       "vacation              0.18\n",
       "wedding               0.15\n",
       "Name: bad_loan, dtype: float64"
      ]
     },
     "execution_count": 265,
     "metadata": {},
     "output_type": "execute_result"
    }
   ],
   "source": [
    "#To implement Target Encoding for the column: purpose\n",
    "\n",
    "# To implement target encoding of the column: purpose we have to divide the count stored in grouped_loan_purpose_1 per category by\n",
    "# total count value stored in grouped_loan_purpose.\n",
    "\n",
    "encode_purpose=round(grouped_loan_purpose_1/grouped_loan_purpose, 2)\n",
    "encode_purpose"
   ]
  },
  {
   "cell_type": "code",
   "execution_count": 127,
   "metadata": {
    "scrolled": true
   },
   "outputs": [
    {
     "name": "stdout",
     "output_type": "stream",
     "text": [
      "car\n",
      "credit_card\n",
      "debt_consolidation\n",
      "educational\n",
      "home_improvement\n",
      "house\n",
      "major_purchase\n",
      "medical\n",
      "moving\n",
      "other\n",
      "renewable_energy\n",
      "small_business\n",
      "vacation\n",
      "wedding\n"
     ]
    }
   ],
   "source": [
    "\n",
    "\n",
    "#df2.loc[df2['verification_status']=='not verified', 'verification_status']=-1\n",
    "\n",
    "for i, v in list(zip(encode_purpose.index.tolist(), encode_purpose.values)):\n",
    "    print(i)\n",
    "\n",
    "\n"
   ]
  },
  {
   "cell_type": "code",
   "execution_count": 266,
   "metadata": {},
   "outputs": [
    {
     "data": {
      "text/plain": [
       "0    0.16\n",
       "1    0.13\n",
       "2    0.31\n",
       "3    0.21\n",
       "4    0.15\n",
       "Name: purpose, dtype: object"
      ]
     },
     "execution_count": 266,
     "metadata": {},
     "output_type": "execute_result"
    }
   ],
   "source": [
    "#It is time to substitute these values for the category labels in the column: purpose\n",
    "#For example: wherever car is seen in the column:purpose it will be replaced by 0.13\n",
    "\n",
    "#This function is used for target encoding the categorical columns\n",
    "        \n",
    "def target_purpose(x, y, col_name):\n",
    "    for i, v in list(zip(x, y)):\n",
    "        df2.loc[df2[col_name]==i, col_name]=v\n",
    "    return df2[col_name].head()\n",
    "        \n",
    "    \n",
    "target_purpose(encode_purpose.index.tolist(), encode_purpose.values, 'purpose')"
   ]
  },
  {
   "cell_type": "code",
   "execution_count": 267,
   "metadata": {
    "collapsed": true
   },
   "outputs": [],
   "source": [
    "#The state labels in the column: addr_state can also be target encoded in the similar way the values in the column:purpose \n",
    "#are transformed. As there are 50 unique state labels and so dummy encoding them will create more number of features and also might\n",
    "#cause correlation amongst the predictor variables\n",
    "\n",
    "\n",
    "#The original dataframe, df2 in part:2 can be used to get the total count of bad_loan per each state (grouped by addr_state)\n",
    "    \n",
    "group_loan_state= df2.groupby('addr_state')['bad_loan'].count()   \n",
    "\n"
   ]
  },
  {
   "cell_type": "code",
   "execution_count": 268,
   "metadata": {},
   "outputs": [
    {
     "data": {
      "text/plain": [
       "addr_state\n",
       "AK      413\n",
       "AL     1965\n",
       "AR     1104\n",
       "AZ     3941\n",
       "CA    28702\n",
       "CO     3531\n",
       "CT     2563\n",
       "DC      584\n",
       "DE      445\n",
       "FL    11396\n",
       "GA     5189\n",
       "HI      955\n",
       "IA       12\n",
       "ID        9\n",
       "IL     6099\n",
       "IN     1463\n",
       "KS     1335\n",
       "KY     1477\n",
       "LA     1885\n",
       "MA     4164\n",
       "MD     3890\n",
       "ME        3\n",
       "MI     3762\n",
       "MN     2771\n",
       "MO     2627\n",
       "MS      163\n",
       "MT      483\n",
       "NC     4393\n",
       "NE       13\n",
       "NH      752\n",
       "NJ     6457\n",
       "NM      839\n",
       "NV     2387\n",
       "NY    14285\n",
       "OH     4896\n",
       "OK     1331\n",
       "OR     2149\n",
       "PA     5427\n",
       "RI      695\n",
       "SC     1826\n",
       "SD      317\n",
       "TN     1327\n",
       "TX    12128\n",
       "UT     1389\n",
       "VA     5282\n",
       "VT      270\n",
       "WA     3823\n",
       "WI     1980\n",
       "WV      714\n",
       "WY      376\n",
       "Name: bad_loan, dtype: int64"
      ]
     },
     "execution_count": 268,
     "metadata": {},
     "output_type": "execute_result"
    }
   ],
   "source": [
    "group_loan_state"
   ]
  },
  {
   "cell_type": "code",
   "execution_count": 269,
   "metadata": {
    "collapsed": true
   },
   "outputs": [],
   "source": [
    "\n",
    "#The result stored in df2_purpose1 can be used again to get the count of values when bad_loan==1 grouped by addr_state\n",
    "\n",
    "group_loan_state_1=df2_purpose1.groupby('addr_state')['bad_loan'].count()"
   ]
  },
  {
   "cell_type": "code",
   "execution_count": 270,
   "metadata": {
    "collapsed": true
   },
   "outputs": [],
   "source": [
    "encode_state=round(group_loan_state_1/group_loan_state, 2)"
   ]
  },
  {
   "cell_type": "code",
   "execution_count": 271,
   "metadata": {},
   "outputs": [
    {
     "data": {
      "text/plain": [
       "0    0.17\n",
       "1    0.18\n",
       "2    0.18\n",
       "3    0.18\n",
       "4    0.17\n",
       "Name: addr_state, dtype: object"
      ]
     },
     "execution_count": 271,
     "metadata": {},
     "output_type": "execute_result"
    }
   ],
   "source": [
    "def target_purpose(x, y, col_name):\n",
    "    for i, v in list(zip(x, y)):\n",
    "        df2.loc[df2[col_name]==i, col_name]=v\n",
    "    return df2[col_name].head()\n",
    "        \n",
    "    \n",
    "target_purpose(encode_state.index.tolist(), encode_state.values, 'addr_state')"
   ]
  },
  {
   "cell_type": "code",
   "execution_count": 272,
   "metadata": {},
   "outputs": [
    {
     "data": {
      "text/html": [
       "<div>\n",
       "<style>\n",
       "    .dataframe thead tr:only-child th {\n",
       "        text-align: right;\n",
       "    }\n",
       "\n",
       "    .dataframe thead th {\n",
       "        text-align: left;\n",
       "    }\n",
       "\n",
       "    .dataframe tbody tr th {\n",
       "        vertical-align: top;\n",
       "    }\n",
       "</style>\n",
       "<table border=\"1\" class=\"dataframe\">\n",
       "  <thead>\n",
       "    <tr style=\"text-align: right;\">\n",
       "      <th></th>\n",
       "      <th>loan_amnt</th>\n",
       "      <th>term</th>\n",
       "      <th>int_rate</th>\n",
       "      <th>emp_length</th>\n",
       "      <th>home_ownership</th>\n",
       "      <th>annual_inc</th>\n",
       "      <th>purpose</th>\n",
       "      <th>addr_state</th>\n",
       "      <th>dti</th>\n",
       "      <th>delinq_2yrs</th>\n",
       "      <th>revol_util</th>\n",
       "      <th>total_acc</th>\n",
       "      <th>bad_loan</th>\n",
       "      <th>longest_credit_length</th>\n",
       "      <th>verification_status</th>\n",
       "    </tr>\n",
       "  </thead>\n",
       "  <tbody>\n",
       "    <tr>\n",
       "      <th>0</th>\n",
       "      <td>5000</td>\n",
       "      <td>3</td>\n",
       "      <td>10.65</td>\n",
       "      <td>10.0</td>\n",
       "      <td>0.2</td>\n",
       "      <td>24000.0</td>\n",
       "      <td>0.16</td>\n",
       "      <td>0.17</td>\n",
       "      <td>27.65</td>\n",
       "      <td>0.0</td>\n",
       "      <td>83.7</td>\n",
       "      <td>9.0</td>\n",
       "      <td>0</td>\n",
       "      <td>26.0</td>\n",
       "      <td>1</td>\n",
       "    </tr>\n",
       "    <tr>\n",
       "      <th>1</th>\n",
       "      <td>2500</td>\n",
       "      <td>5</td>\n",
       "      <td>15.27</td>\n",
       "      <td>0.0</td>\n",
       "      <td>0.2</td>\n",
       "      <td>30000.0</td>\n",
       "      <td>0.13</td>\n",
       "      <td>0.18</td>\n",
       "      <td>1.00</td>\n",
       "      <td>0.0</td>\n",
       "      <td>9.4</td>\n",
       "      <td>4.0</td>\n",
       "      <td>1</td>\n",
       "      <td>12.0</td>\n",
       "      <td>1</td>\n",
       "    </tr>\n",
       "    <tr>\n",
       "      <th>2</th>\n",
       "      <td>2400</td>\n",
       "      <td>3</td>\n",
       "      <td>15.96</td>\n",
       "      <td>10.0</td>\n",
       "      <td>0.2</td>\n",
       "      <td>12252.0</td>\n",
       "      <td>0.31</td>\n",
       "      <td>0.18</td>\n",
       "      <td>8.72</td>\n",
       "      <td>0.0</td>\n",
       "      <td>98.5</td>\n",
       "      <td>10.0</td>\n",
       "      <td>0</td>\n",
       "      <td>10.0</td>\n",
       "      <td>-1</td>\n",
       "    </tr>\n",
       "    <tr>\n",
       "      <th>3</th>\n",
       "      <td>10000</td>\n",
       "      <td>3</td>\n",
       "      <td>13.49</td>\n",
       "      <td>10.0</td>\n",
       "      <td>0.2</td>\n",
       "      <td>49200.0</td>\n",
       "      <td>0.21</td>\n",
       "      <td>0.18</td>\n",
       "      <td>20.00</td>\n",
       "      <td>0.0</td>\n",
       "      <td>21.0</td>\n",
       "      <td>37.0</td>\n",
       "      <td>0</td>\n",
       "      <td>15.0</td>\n",
       "      <td>1</td>\n",
       "    </tr>\n",
       "    <tr>\n",
       "      <th>4</th>\n",
       "      <td>5000</td>\n",
       "      <td>3</td>\n",
       "      <td>7.90</td>\n",
       "      <td>3.0</td>\n",
       "      <td>0.2</td>\n",
       "      <td>36000.0</td>\n",
       "      <td>0.15</td>\n",
       "      <td>0.17</td>\n",
       "      <td>11.20</td>\n",
       "      <td>0.0</td>\n",
       "      <td>28.3</td>\n",
       "      <td>12.0</td>\n",
       "      <td>0</td>\n",
       "      <td>7.0</td>\n",
       "      <td>1</td>\n",
       "    </tr>\n",
       "  </tbody>\n",
       "</table>\n",
       "</div>"
      ],
      "text/plain": [
       "   loan_amnt  term  int_rate  emp_length home_ownership  annual_inc purpose  \\\n",
       "0       5000     3     10.65        10.0            0.2     24000.0    0.16   \n",
       "1       2500     5     15.27         0.0            0.2     30000.0    0.13   \n",
       "2       2400     3     15.96        10.0            0.2     12252.0    0.31   \n",
       "3      10000     3     13.49        10.0            0.2     49200.0    0.21   \n",
       "4       5000     3      7.90         3.0            0.2     36000.0    0.15   \n",
       "\n",
       "  addr_state    dti  delinq_2yrs  revol_util  total_acc  bad_loan  \\\n",
       "0       0.17  27.65          0.0        83.7        9.0         0   \n",
       "1       0.18   1.00          0.0         9.4        4.0         1   \n",
       "2       0.18   8.72          0.0        98.5       10.0         0   \n",
       "3       0.18  20.00          0.0        21.0       37.0         0   \n",
       "4       0.17  11.20          0.0        28.3       12.0         0   \n",
       "\n",
       "   longest_credit_length verification_status  \n",
       "0                   26.0                   1  \n",
       "1                   12.0                   1  \n",
       "2                   10.0                  -1  \n",
       "3                   15.0                   1  \n",
       "4                    7.0                   1  "
      ]
     },
     "execution_count": 272,
     "metadata": {},
     "output_type": "execute_result"
    }
   ],
   "source": [
    "df2.head()"
   ]
  },
  {
   "cell_type": "code",
   "execution_count": null,
   "metadata": {
    "collapsed": true
   },
   "outputs": [],
   "source": [
    "Target Encoding for addr_state\n",
    "\n",
    "What is target encoding?\n",
    "It is a technique to encode categorical variables using mean value of target variables/values.\n",
    "We have 50 states in the addr_state column. In the earlier session we saw the implementation of pd.get_dummies to encode \n",
    "the column values with 0 and 1. What is the problem with that?\n",
    "For example, for illustration purpose let us consider the following table:\n",
    "    \n",
    "addr_state\n",
    "    CA\n",
    "\n",
    "bad_loan\n",
    "1\n",
    "0\n",
    "1\n",
    "0\n",
    "1\n",
    "1\n",
    "1\n",
    "\n",
    "The column bad_loan is our target variable. Target encoding is implemented by finding the mean value, but there is rather a notable\n",
    "point. The mean is calculated by counting the number of 1s divided by the total number of 0s and 1s for the state of California (CA).\n",
    "So the target encoding for CA = 5/7 as there 5 1s and 7 entries in total.\n",
    "Similarly the values are calculated for the rest of the states in the column.\n",
    "\n"
   ]
  },
  {
   "cell_type": "code",
   "execution_count": null,
   "metadata": {
    "collapsed": true
   },
   "outputs": [],
   "source": [
    "check the verification_status column and pick suitable values to encode "
   ]
  },
  {
   "cell_type": "code",
   "execution_count": null,
   "metadata": {
    "collapsed": true
   },
   "outputs": [],
   "source": [
    "Thinking about normalization!\n",
    "Well, the tree methods should be fairly robust to outliers in the input features since the base learners are tree splits.\n",
    "So not going to worry about removing outliers in order to boost the classifier performance.\n",
    "But not all the time. In case of regression and in situation of huge deviations in the dependent variable values the \n",
    "\n",
    "the implementation of Random Forest Classifier and Adaboost Classifier with Decision Tree as base estimators do not\n",
    "necessarily \n"
   ]
  },
  {
   "cell_type": "code",
   "execution_count": 274,
   "metadata": {
    "scrolled": false
   },
   "outputs": [
    {
     "data": {
      "text/plain": [
       "Index(['emp_length', 'home_ownership', 'annual_inc', 'addr_state',\n",
       "       'delinq_2yrs', 'revol_util', 'total_acc', 'longest_credit_length'],\n",
       "      dtype='object')"
      ]
     },
     "execution_count": 274,
     "metadata": {},
     "output_type": "execute_result"
    }
   ],
   "source": [
    "#To print the column names with null values in the dataframe\n",
    "#df2[df2.isnull().any(axis=1)]\n",
    "\n",
    "\n",
    "df2.columns[df2.isnull().any()]\n",
    "\n"
   ]
  },
  {
   "cell_type": "code",
   "execution_count": 275,
   "metadata": {},
   "outputs": [
    {
     "data": {
      "text/plain": [
       "array([10.,  0.,  3.,  9.,  4.,  5.,  1.,  6.,  2.,  7.,  8., nan])"
      ]
     },
     "execution_count": 275,
     "metadata": {},
     "output_type": "execute_result"
    }
   ],
   "source": [
    "df2['emp_length'].unique()"
   ]
  },
  {
   "cell_type": "code",
   "execution_count": 276,
   "metadata": {
    "collapsed": true
   },
   "outputs": [],
   "source": [
    "#Grouping bad_loan by emp_length to get more insights about the column\n",
    "group_loan_emplength= df2.groupby('emp_length')['bad_loan'].count()   \n",
    "\n"
   ]
  },
  {
   "cell_type": "code",
   "execution_count": 277,
   "metadata": {},
   "outputs": [
    {
     "data": {
      "text/plain": [
       "emp_length\n",
       "0.0     14248\n",
       "1.0     11414\n",
       "2.0     15766\n",
       "3.0     13611\n",
       "4.0     11024\n",
       "5.0     12347\n",
       "6.0     10000\n",
       "7.0      9079\n",
       "8.0      7424\n",
       "9.0      6087\n",
       "10.0    47183\n",
       "Name: bad_loan, dtype: int64"
      ]
     },
     "execution_count": 277,
     "metadata": {},
     "output_type": "execute_result"
    }
   ],
   "source": [
    "#But NaN values do not get listed\n",
    "group_loan_emplength"
   ]
  },
  {
   "cell_type": "code",
   "execution_count": 157,
   "metadata": {},
   "outputs": [
    {
     "data": {
      "text/plain": [
       "<matplotlib.axes._subplots.AxesSubplot at 0x111c4f518>"
      ]
     },
     "execution_count": 157,
     "metadata": {},
     "output_type": "execute_result"
    },
    {
     "data": {
      "image/png": "[encoded data removed]",
      "text/plain": [
       "<matplotlib.figure.Figure at 0x111c4f048>"
      ]
     },
     "metadata": {},
     "output_type": "display_data"
    }
   ],
   "source": [
    "sns.barplot(group_loan_emplength.index.values, group_loan_emplength.values)\n"
   ]
  },
  {
   "cell_type": "code",
   "execution_count": null,
   "metadata": {
    "collapsed": true
   },
   "outputs": [],
   "source": [
    "Instead of just filling null values with 0 there is a better way to deal with them\n",
    "\n",
    "The columns with NaN values are:\n",
    "    \n",
    "['emp_length', 'home_ownership', 'annual_inc', 'addr_state','delinq_2yrs', 'revol_util', 'total_acc', 'longest_credit_length']\n",
    "The idea is to fill the null values in the columns based on the following:\n",
    "For numerical features: replace the null values with either mean or median    \n",
    "For categorical features: replace the null values with the most frequent class/variable in the column"
   ]
  },
  {
   "cell_type": "code",
   "execution_count": 167,
   "metadata": {},
   "outputs": [
    {
     "data": {
      "text/html": [
       "<div>\n",
       "<style>\n",
       "    .dataframe thead tr:only-child th {\n",
       "        text-align: right;\n",
       "    }\n",
       "\n",
       "    .dataframe thead th {\n",
       "        text-align: left;\n",
       "    }\n",
       "\n",
       "    .dataframe tbody tr th {\n",
       "        vertical-align: top;\n",
       "    }\n",
       "</style>\n",
       "<table border=\"1\" class=\"dataframe\">\n",
       "  <thead>\n",
       "    <tr style=\"text-align: right;\">\n",
       "      <th></th>\n",
       "      <th>loan_amnt</th>\n",
       "      <th>term</th>\n",
       "      <th>int_rate</th>\n",
       "      <th>emp_length</th>\n",
       "      <th>home_ownership</th>\n",
       "      <th>annual_inc</th>\n",
       "      <th>purpose</th>\n",
       "      <th>addr_state</th>\n",
       "      <th>dti</th>\n",
       "      <th>delinq_2yrs</th>\n",
       "      <th>revol_util</th>\n",
       "      <th>total_acc</th>\n",
       "      <th>bad_loan</th>\n",
       "      <th>longest_credit_length</th>\n",
       "      <th>verification_status</th>\n",
       "    </tr>\n",
       "  </thead>\n",
       "  <tbody>\n",
       "    <tr>\n",
       "      <th>153</th>\n",
       "      <td>2500</td>\n",
       "      <td>3</td>\n",
       "      <td>7.51</td>\n",
       "      <td>NaN</td>\n",
       "      <td>0.19</td>\n",
       "      <td>12000.00</td>\n",
       "      <td>0.19</td>\n",
       "      <td>0.18</td>\n",
       "      <td>16.30</td>\n",
       "      <td>0.0</td>\n",
       "      <td>42.2</td>\n",
       "      <td>20.0</td>\n",
       "      <td>1</td>\n",
       "      <td>17.0</td>\n",
       "      <td>1</td>\n",
       "    </tr>\n",
       "    <tr>\n",
       "      <th>352</th>\n",
       "      <td>4000</td>\n",
       "      <td>3</td>\n",
       "      <td>11.71</td>\n",
       "      <td>NaN</td>\n",
       "      <td>0.2</td>\n",
       "      <td>24000.00</td>\n",
       "      <td>0.16</td>\n",
       "      <td>0.21</td>\n",
       "      <td>7.50</td>\n",
       "      <td>1.0</td>\n",
       "      <td>54.9</td>\n",
       "      <td>6.0</td>\n",
       "      <td>0</td>\n",
       "      <td>6.0</td>\n",
       "      <td>1</td>\n",
       "    </tr>\n",
       "    <tr>\n",
       "      <th>377</th>\n",
       "      <td>1000</td>\n",
       "      <td>3</td>\n",
       "      <td>14.65</td>\n",
       "      <td>NaN</td>\n",
       "      <td>0.2</td>\n",
       "      <td>18408.00</td>\n",
       "      <td>0.14</td>\n",
       "      <td>0.2</td>\n",
       "      <td>6.00</td>\n",
       "      <td>0.0</td>\n",
       "      <td>83.7</td>\n",
       "      <td>8.0</td>\n",
       "      <td>1</td>\n",
       "      <td>18.0</td>\n",
       "      <td>-1</td>\n",
       "    </tr>\n",
       "    <tr>\n",
       "      <th>390</th>\n",
       "      <td>8250</td>\n",
       "      <td>3</td>\n",
       "      <td>7.51</td>\n",
       "      <td>NaN</td>\n",
       "      <td>0.16</td>\n",
       "      <td>31500.00</td>\n",
       "      <td>0.19</td>\n",
       "      <td>0.18</td>\n",
       "      <td>17.87</td>\n",
       "      <td>0.0</td>\n",
       "      <td>10.4</td>\n",
       "      <td>37.0</td>\n",
       "      <td>0</td>\n",
       "      <td>30.0</td>\n",
       "      <td>1</td>\n",
       "    </tr>\n",
       "    <tr>\n",
       "      <th>476</th>\n",
       "      <td>1700</td>\n",
       "      <td>3</td>\n",
       "      <td>7.90</td>\n",
       "      <td>NaN</td>\n",
       "      <td>0.16</td>\n",
       "      <td>37800.00</td>\n",
       "      <td>0.16</td>\n",
       "      <td>0.14</td>\n",
       "      <td>27.00</td>\n",
       "      <td>0.0</td>\n",
       "      <td>91.2</td>\n",
       "      <td>27.0</td>\n",
       "      <td>1</td>\n",
       "      <td>32.0</td>\n",
       "      <td>-1</td>\n",
       "    </tr>\n",
       "    <tr>\n",
       "      <th>496</th>\n",
       "      <td>5000</td>\n",
       "      <td>3</td>\n",
       "      <td>8.90</td>\n",
       "      <td>NaN</td>\n",
       "      <td>0.16</td>\n",
       "      <td>70000.00</td>\n",
       "      <td>0.21</td>\n",
       "      <td>0.18</td>\n",
       "      <td>16.17</td>\n",
       "      <td>1.0</td>\n",
       "      <td>53.0</td>\n",
       "      <td>32.0</td>\n",
       "      <td>0</td>\n",
       "      <td>28.0</td>\n",
       "      <td>1</td>\n",
       "    </tr>\n",
       "    <tr>\n",
       "      <th>503</th>\n",
       "      <td>3000</td>\n",
       "      <td>3</td>\n",
       "      <td>9.91</td>\n",
       "      <td>NaN</td>\n",
       "      <td>0.16</td>\n",
       "      <td>42000.00</td>\n",
       "      <td>0.23</td>\n",
       "      <td>0.18</td>\n",
       "      <td>4.29</td>\n",
       "      <td>0.0</td>\n",
       "      <td>33.3</td>\n",
       "      <td>3.0</td>\n",
       "      <td>0</td>\n",
       "      <td>6.0</td>\n",
       "      <td>-1</td>\n",
       "    </tr>\n",
       "    <tr>\n",
       "      <th>508</th>\n",
       "      <td>8575</td>\n",
       "      <td>3</td>\n",
       "      <td>17.58</td>\n",
       "      <td>NaN</td>\n",
       "      <td>0.16</td>\n",
       "      <td>32000.00</td>\n",
       "      <td>0.19</td>\n",
       "      <td>0.21</td>\n",
       "      <td>22.54</td>\n",
       "      <td>0.0</td>\n",
       "      <td>89.9</td>\n",
       "      <td>5.0</td>\n",
       "      <td>1</td>\n",
       "      <td>7.0</td>\n",
       "      <td>1</td>\n",
       "    </tr>\n",
       "    <tr>\n",
       "      <th>604</th>\n",
       "      <td>5600</td>\n",
       "      <td>3</td>\n",
       "      <td>6.03</td>\n",
       "      <td>NaN</td>\n",
       "      <td>0.19</td>\n",
       "      <td>41100.00</td>\n",
       "      <td>0.13</td>\n",
       "      <td>0.19</td>\n",
       "      <td>3.97</td>\n",
       "      <td>0.0</td>\n",
       "      <td>2.7</td>\n",
       "      <td>44.0</td>\n",
       "      <td>0</td>\n",
       "      <td>21.0</td>\n",
       "      <td>-1</td>\n",
       "    </tr>\n",
       "    <tr>\n",
       "      <th>668</th>\n",
       "      <td>14125</td>\n",
       "      <td>3</td>\n",
       "      <td>12.42</td>\n",
       "      <td>NaN</td>\n",
       "      <td>0.16</td>\n",
       "      <td>45696.00</td>\n",
       "      <td>0.19</td>\n",
       "      <td>0.19</td>\n",
       "      <td>21.93</td>\n",
       "      <td>0.0</td>\n",
       "      <td>91.5</td>\n",
       "      <td>26.0</td>\n",
       "      <td>1</td>\n",
       "      <td>11.0</td>\n",
       "      <td>1</td>\n",
       "    </tr>\n",
       "    <tr>\n",
       "      <th>792</th>\n",
       "      <td>2250</td>\n",
       "      <td>3</td>\n",
       "      <td>15.27</td>\n",
       "      <td>NaN</td>\n",
       "      <td>0.16</td>\n",
       "      <td>17352.00</td>\n",
       "      <td>0.21</td>\n",
       "      <td>0.21</td>\n",
       "      <td>19.50</td>\n",
       "      <td>0.0</td>\n",
       "      <td>90.3</td>\n",
       "      <td>8.0</td>\n",
       "      <td>0</td>\n",
       "      <td>10.0</td>\n",
       "      <td>1</td>\n",
       "    </tr>\n",
       "    <tr>\n",
       "      <th>856</th>\n",
       "      <td>7000</td>\n",
       "      <td>3</td>\n",
       "      <td>6.62</td>\n",
       "      <td>NaN</td>\n",
       "      <td>0.16</td>\n",
       "      <td>24000.00</td>\n",
       "      <td>0.13</td>\n",
       "      <td>0.18</td>\n",
       "      <td>11.45</td>\n",
       "      <td>0.0</td>\n",
       "      <td>22.9</td>\n",
       "      <td>24.0</td>\n",
       "      <td>0</td>\n",
       "      <td>29.0</td>\n",
       "      <td>1</td>\n",
       "    </tr>\n",
       "    <tr>\n",
       "      <th>865</th>\n",
       "      <td>15000</td>\n",
       "      <td>3</td>\n",
       "      <td>12.42</td>\n",
       "      <td>NaN</td>\n",
       "      <td>0.2</td>\n",
       "      <td>60000.00</td>\n",
       "      <td>0.19</td>\n",
       "      <td>0.18</td>\n",
       "      <td>14.18</td>\n",
       "      <td>0.0</td>\n",
       "      <td>72.5</td>\n",
       "      <td>19.0</td>\n",
       "      <td>0</td>\n",
       "      <td>18.0</td>\n",
       "      <td>1</td>\n",
       "    </tr>\n",
       "    <tr>\n",
       "      <th>954</th>\n",
       "      <td>12000</td>\n",
       "      <td>3</td>\n",
       "      <td>6.03</td>\n",
       "      <td>NaN</td>\n",
       "      <td>0.19</td>\n",
       "      <td>40000.00</td>\n",
       "      <td>0.16</td>\n",
       "      <td>0.18</td>\n",
       "      <td>18.75</td>\n",
       "      <td>0.0</td>\n",
       "      <td>51.1</td>\n",
       "      <td>25.0</td>\n",
       "      <td>0</td>\n",
       "      <td>30.0</td>\n",
       "      <td>1</td>\n",
       "    </tr>\n",
       "    <tr>\n",
       "      <th>956</th>\n",
       "      <td>15000</td>\n",
       "      <td>3</td>\n",
       "      <td>17.27</td>\n",
       "      <td>NaN</td>\n",
       "      <td>0.19</td>\n",
       "      <td>57000.00</td>\n",
       "      <td>0.19</td>\n",
       "      <td>0.18</td>\n",
       "      <td>12.08</td>\n",
       "      <td>0.0</td>\n",
       "      <td>89.0</td>\n",
       "      <td>13.0</td>\n",
       "      <td>0</td>\n",
       "      <td>5.0</td>\n",
       "      <td>1</td>\n",
       "    </tr>\n",
       "    <tr>\n",
       "      <th>979</th>\n",
       "      <td>8500</td>\n",
       "      <td>3</td>\n",
       "      <td>15.96</td>\n",
       "      <td>NaN</td>\n",
       "      <td>0.2</td>\n",
       "      <td>27050.00</td>\n",
       "      <td>0.16</td>\n",
       "      <td>0.18</td>\n",
       "      <td>10.25</td>\n",
       "      <td>0.0</td>\n",
       "      <td>62.7</td>\n",
       "      <td>10.0</td>\n",
       "      <td>1</td>\n",
       "      <td>6.0</td>\n",
       "      <td>1</td>\n",
       "    </tr>\n",
       "    <tr>\n",
       "      <th>994</th>\n",
       "      <td>5000</td>\n",
       "      <td>3</td>\n",
       "      <td>7.51</td>\n",
       "      <td>NaN</td>\n",
       "      <td>0.2</td>\n",
       "      <td>84855.00</td>\n",
       "      <td>0.21</td>\n",
       "      <td>0.18</td>\n",
       "      <td>14.14</td>\n",
       "      <td>0.0</td>\n",
       "      <td>20.5</td>\n",
       "      <td>18.0</td>\n",
       "      <td>1</td>\n",
       "      <td>23.0</td>\n",
       "      <td>1</td>\n",
       "    </tr>\n",
       "    <tr>\n",
       "      <th>1002</th>\n",
       "      <td>4000</td>\n",
       "      <td>3</td>\n",
       "      <td>15.27</td>\n",
       "      <td>NaN</td>\n",
       "      <td>0.19</td>\n",
       "      <td>25000.00</td>\n",
       "      <td>0.19</td>\n",
       "      <td>0.16</td>\n",
       "      <td>12.62</td>\n",
       "      <td>0.0</td>\n",
       "      <td>91.0</td>\n",
       "      <td>9.0</td>\n",
       "      <td>1</td>\n",
       "      <td>8.0</td>\n",
       "      <td>-1</td>\n",
       "    </tr>\n",
       "    <tr>\n",
       "      <th>1013</th>\n",
       "      <td>5000</td>\n",
       "      <td>3</td>\n",
       "      <td>14.65</td>\n",
       "      <td>NaN</td>\n",
       "      <td>0.16</td>\n",
       "      <td>48000.00</td>\n",
       "      <td>0.16</td>\n",
       "      <td>0.16</td>\n",
       "      <td>19.57</td>\n",
       "      <td>0.0</td>\n",
       "      <td>74.3</td>\n",
       "      <td>26.0</td>\n",
       "      <td>0</td>\n",
       "      <td>25.0</td>\n",
       "      <td>-1</td>\n",
       "    </tr>\n",
       "    <tr>\n",
       "      <th>1075</th>\n",
       "      <td>5000</td>\n",
       "      <td>3</td>\n",
       "      <td>7.90</td>\n",
       "      <td>NaN</td>\n",
       "      <td>0.2</td>\n",
       "      <td>30000.00</td>\n",
       "      <td>0.19</td>\n",
       "      <td>0.17</td>\n",
       "      <td>12.64</td>\n",
       "      <td>0.0</td>\n",
       "      <td>94.8</td>\n",
       "      <td>14.0</td>\n",
       "      <td>0</td>\n",
       "      <td>12.0</td>\n",
       "      <td>-1</td>\n",
       "    </tr>\n",
       "    <tr>\n",
       "      <th>1097</th>\n",
       "      <td>1400</td>\n",
       "      <td>3</td>\n",
       "      <td>8.90</td>\n",
       "      <td>NaN</td>\n",
       "      <td>0.16</td>\n",
       "      <td>30108.00</td>\n",
       "      <td>0.19</td>\n",
       "      <td>0.2</td>\n",
       "      <td>20.29</td>\n",
       "      <td>0.0</td>\n",
       "      <td>33.4</td>\n",
       "      <td>40.0</td>\n",
       "      <td>1</td>\n",
       "      <td>25.0</td>\n",
       "      <td>-1</td>\n",
       "    </tr>\n",
       "    <tr>\n",
       "      <th>1118</th>\n",
       "      <td>9250</td>\n",
       "      <td>3</td>\n",
       "      <td>10.65</td>\n",
       "      <td>NaN</td>\n",
       "      <td>0.19</td>\n",
       "      <td>20000.00</td>\n",
       "      <td>0.19</td>\n",
       "      <td>0.18</td>\n",
       "      <td>9.18</td>\n",
       "      <td>0.0</td>\n",
       "      <td>48.4</td>\n",
       "      <td>12.0</td>\n",
       "      <td>0</td>\n",
       "      <td>10.0</td>\n",
       "      <td>1</td>\n",
       "    </tr>\n",
       "    <tr>\n",
       "      <th>1147</th>\n",
       "      <td>7200</td>\n",
       "      <td>3</td>\n",
       "      <td>12.69</td>\n",
       "      <td>NaN</td>\n",
       "      <td>0.16</td>\n",
       "      <td>45000.00</td>\n",
       "      <td>0.16</td>\n",
       "      <td>0.18</td>\n",
       "      <td>11.39</td>\n",
       "      <td>0.0</td>\n",
       "      <td>76.4</td>\n",
       "      <td>18.0</td>\n",
       "      <td>0</td>\n",
       "      <td>17.0</td>\n",
       "      <td>1</td>\n",
       "    </tr>\n",
       "    <tr>\n",
       "      <th>1160</th>\n",
       "      <td>5325</td>\n",
       "      <td>3</td>\n",
       "      <td>12.42</td>\n",
       "      <td>NaN</td>\n",
       "      <td>0.2</td>\n",
       "      <td>22000.00</td>\n",
       "      <td>0.16</td>\n",
       "      <td>0.18</td>\n",
       "      <td>12.55</td>\n",
       "      <td>0.0</td>\n",
       "      <td>88.5</td>\n",
       "      <td>14.0</td>\n",
       "      <td>1</td>\n",
       "      <td>9.0</td>\n",
       "      <td>1</td>\n",
       "    </tr>\n",
       "    <tr>\n",
       "      <th>1168</th>\n",
       "      <td>12000</td>\n",
       "      <td>3</td>\n",
       "      <td>7.51</td>\n",
       "      <td>NaN</td>\n",
       "      <td>0.16</td>\n",
       "      <td>60000.00</td>\n",
       "      <td>0.19</td>\n",
       "      <td>0.17</td>\n",
       "      <td>5.66</td>\n",
       "      <td>0.0</td>\n",
       "      <td>40.7</td>\n",
       "      <td>12.0</td>\n",
       "      <td>0</td>\n",
       "      <td>23.0</td>\n",
       "      <td>1</td>\n",
       "    </tr>\n",
       "    <tr>\n",
       "      <th>1224</th>\n",
       "      <td>8000</td>\n",
       "      <td>3</td>\n",
       "      <td>9.91</td>\n",
       "      <td>NaN</td>\n",
       "      <td>0.2</td>\n",
       "      <td>60000.00</td>\n",
       "      <td>0.16</td>\n",
       "      <td>0.18</td>\n",
       "      <td>19.90</td>\n",
       "      <td>0.0</td>\n",
       "      <td>0.0</td>\n",
       "      <td>5.0</td>\n",
       "      <td>1</td>\n",
       "      <td>5.0</td>\n",
       "      <td>1</td>\n",
       "    </tr>\n",
       "    <tr>\n",
       "      <th>1229</th>\n",
       "      <td>10000</td>\n",
       "      <td>3</td>\n",
       "      <td>6.03</td>\n",
       "      <td>NaN</td>\n",
       "      <td>0.19</td>\n",
       "      <td>37200.00</td>\n",
       "      <td>0.16</td>\n",
       "      <td>0.19</td>\n",
       "      <td>17.42</td>\n",
       "      <td>0.0</td>\n",
       "      <td>20.3</td>\n",
       "      <td>13.0</td>\n",
       "      <td>0</td>\n",
       "      <td>33.0</td>\n",
       "      <td>1</td>\n",
       "    </tr>\n",
       "    <tr>\n",
       "      <th>1244</th>\n",
       "      <td>15000</td>\n",
       "      <td>3</td>\n",
       "      <td>17.58</td>\n",
       "      <td>NaN</td>\n",
       "      <td>0.19</td>\n",
       "      <td>62400.00</td>\n",
       "      <td>0.19</td>\n",
       "      <td>0.18</td>\n",
       "      <td>19.10</td>\n",
       "      <td>0.0</td>\n",
       "      <td>81.0</td>\n",
       "      <td>47.0</td>\n",
       "      <td>0</td>\n",
       "      <td>22.0</td>\n",
       "      <td>1</td>\n",
       "    </tr>\n",
       "    <tr>\n",
       "      <th>1247</th>\n",
       "      <td>2125</td>\n",
       "      <td>3</td>\n",
       "      <td>8.90</td>\n",
       "      <td>NaN</td>\n",
       "      <td>0.2</td>\n",
       "      <td>43000.00</td>\n",
       "      <td>0.16</td>\n",
       "      <td>0.16</td>\n",
       "      <td>21.60</td>\n",
       "      <td>0.0</td>\n",
       "      <td>14.3</td>\n",
       "      <td>19.0</td>\n",
       "      <td>0</td>\n",
       "      <td>7.0</td>\n",
       "      <td>1</td>\n",
       "    </tr>\n",
       "    <tr>\n",
       "      <th>1323</th>\n",
       "      <td>20000</td>\n",
       "      <td>5</td>\n",
       "      <td>17.27</td>\n",
       "      <td>NaN</td>\n",
       "      <td>0.16</td>\n",
       "      <td>40406.00</td>\n",
       "      <td>0.16</td>\n",
       "      <td>0.23</td>\n",
       "      <td>17.52</td>\n",
       "      <td>1.0</td>\n",
       "      <td>70.3</td>\n",
       "      <td>31.0</td>\n",
       "      <td>0</td>\n",
       "      <td>12.0</td>\n",
       "      <td>1</td>\n",
       "    </tr>\n",
       "    <tr>\n",
       "      <th>...</th>\n",
       "      <td>...</td>\n",
       "      <td>...</td>\n",
       "      <td>...</td>\n",
       "      <td>...</td>\n",
       "      <td>...</td>\n",
       "      <td>...</td>\n",
       "      <td>...</td>\n",
       "      <td>...</td>\n",
       "      <td>...</td>\n",
       "      <td>...</td>\n",
       "      <td>...</td>\n",
       "      <td>...</td>\n",
       "      <td>...</td>\n",
       "      <td>...</td>\n",
       "      <td>...</td>\n",
       "    </tr>\n",
       "    <tr>\n",
       "      <th>163172</th>\n",
       "      <td>23925</td>\n",
       "      <td>5</td>\n",
       "      <td>17.86</td>\n",
       "      <td>NaN</td>\n",
       "      <td>0.16</td>\n",
       "      <td>48000.00</td>\n",
       "      <td>0.19</td>\n",
       "      <td>0.19</td>\n",
       "      <td>27.29</td>\n",
       "      <td>0.0</td>\n",
       "      <td>96.2</td>\n",
       "      <td>19.0</td>\n",
       "      <td>0</td>\n",
       "      <td>28.0</td>\n",
       "      <td>1</td>\n",
       "    </tr>\n",
       "    <tr>\n",
       "      <th>163184</th>\n",
       "      <td>7900</td>\n",
       "      <td>3</td>\n",
       "      <td>12.39</td>\n",
       "      <td>NaN</td>\n",
       "      <td>0.16</td>\n",
       "      <td>20000.00</td>\n",
       "      <td>0.16</td>\n",
       "      <td>0.18</td>\n",
       "      <td>13.69</td>\n",
       "      <td>0.0</td>\n",
       "      <td>31.7</td>\n",
       "      <td>41.0</td>\n",
       "      <td>0</td>\n",
       "      <td>26.0</td>\n",
       "      <td>1</td>\n",
       "    </tr>\n",
       "    <tr>\n",
       "      <th>163191</th>\n",
       "      <td>6000</td>\n",
       "      <td>3</td>\n",
       "      <td>12.39</td>\n",
       "      <td>NaN</td>\n",
       "      <td>0.16</td>\n",
       "      <td>25000.00</td>\n",
       "      <td>0.2</td>\n",
       "      <td>0.14</td>\n",
       "      <td>2.16</td>\n",
       "      <td>0.0</td>\n",
       "      <td>5.2</td>\n",
       "      <td>20.0</td>\n",
       "      <td>0</td>\n",
       "      <td>27.0</td>\n",
       "      <td>1</td>\n",
       "    </tr>\n",
       "    <tr>\n",
       "      <th>163236</th>\n",
       "      <td>5000</td>\n",
       "      <td>3</td>\n",
       "      <td>6.49</td>\n",
       "      <td>NaN</td>\n",
       "      <td>0.16</td>\n",
       "      <td>96000.00</td>\n",
       "      <td>0.19</td>\n",
       "      <td>0.18</td>\n",
       "      <td>26.91</td>\n",
       "      <td>0.0</td>\n",
       "      <td>80.0</td>\n",
       "      <td>41.0</td>\n",
       "      <td>0</td>\n",
       "      <td>34.0</td>\n",
       "      <td>1</td>\n",
       "    </tr>\n",
       "    <tr>\n",
       "      <th>163261</th>\n",
       "      <td>28300</td>\n",
       "      <td>3</td>\n",
       "      <td>15.59</td>\n",
       "      <td>NaN</td>\n",
       "      <td>0.2</td>\n",
       "      <td>63000.00</td>\n",
       "      <td>0.19</td>\n",
       "      <td>0.19</td>\n",
       "      <td>27.14</td>\n",
       "      <td>0.0</td>\n",
       "      <td>47.0</td>\n",
       "      <td>41.0</td>\n",
       "      <td>0</td>\n",
       "      <td>23.0</td>\n",
       "      <td>1</td>\n",
       "    </tr>\n",
       "    <tr>\n",
       "      <th>163262</th>\n",
       "      <td>16000</td>\n",
       "      <td>3</td>\n",
       "      <td>12.99</td>\n",
       "      <td>NaN</td>\n",
       "      <td>0.16</td>\n",
       "      <td>47896.00</td>\n",
       "      <td>0.16</td>\n",
       "      <td>0.16</td>\n",
       "      <td>13.00</td>\n",
       "      <td>0.0</td>\n",
       "      <td>63.3</td>\n",
       "      <td>22.0</td>\n",
       "      <td>0</td>\n",
       "      <td>20.0</td>\n",
       "      <td>1</td>\n",
       "    </tr>\n",
       "    <tr>\n",
       "      <th>163286</th>\n",
       "      <td>5450</td>\n",
       "      <td>3</td>\n",
       "      <td>8.19</td>\n",
       "      <td>NaN</td>\n",
       "      <td>0.2</td>\n",
       "      <td>15996.00</td>\n",
       "      <td>0.19</td>\n",
       "      <td>0.23</td>\n",
       "      <td>22.13</td>\n",
       "      <td>0.0</td>\n",
       "      <td>29.5</td>\n",
       "      <td>29.0</td>\n",
       "      <td>0</td>\n",
       "      <td>26.0</td>\n",
       "      <td>1</td>\n",
       "    </tr>\n",
       "    <tr>\n",
       "      <th>163295</th>\n",
       "      <td>10000</td>\n",
       "      <td>3</td>\n",
       "      <td>11.99</td>\n",
       "      <td>NaN</td>\n",
       "      <td>0.16</td>\n",
       "      <td>40000.00</td>\n",
       "      <td>0.19</td>\n",
       "      <td>0.22</td>\n",
       "      <td>16.53</td>\n",
       "      <td>1.0</td>\n",
       "      <td>31.0</td>\n",
       "      <td>18.0</td>\n",
       "      <td>0</td>\n",
       "      <td>11.0</td>\n",
       "      <td>1</td>\n",
       "    </tr>\n",
       "    <tr>\n",
       "      <th>163319</th>\n",
       "      <td>11050</td>\n",
       "      <td>5</td>\n",
       "      <td>25.89</td>\n",
       "      <td>NaN</td>\n",
       "      <td>0.19</td>\n",
       "      <td>40218.00</td>\n",
       "      <td>0.16</td>\n",
       "      <td>0.18</td>\n",
       "      <td>20.80</td>\n",
       "      <td>1.0</td>\n",
       "      <td>32.6</td>\n",
       "      <td>16.0</td>\n",
       "      <td>0</td>\n",
       "      <td>16.0</td>\n",
       "      <td>1</td>\n",
       "    </tr>\n",
       "    <tr>\n",
       "      <th>163328</th>\n",
       "      <td>19875</td>\n",
       "      <td>3</td>\n",
       "      <td>19.99</td>\n",
       "      <td>NaN</td>\n",
       "      <td>0.16</td>\n",
       "      <td>46500.00</td>\n",
       "      <td>0.21</td>\n",
       "      <td>0.22</td>\n",
       "      <td>11.17</td>\n",
       "      <td>1.0</td>\n",
       "      <td>52.0</td>\n",
       "      <td>31.0</td>\n",
       "      <td>0</td>\n",
       "      <td>20.0</td>\n",
       "      <td>1</td>\n",
       "    </tr>\n",
       "    <tr>\n",
       "      <th>163384</th>\n",
       "      <td>8400</td>\n",
       "      <td>3</td>\n",
       "      <td>13.66</td>\n",
       "      <td>NaN</td>\n",
       "      <td>0.2</td>\n",
       "      <td>33500.00</td>\n",
       "      <td>0.19</td>\n",
       "      <td>0.16</td>\n",
       "      <td>12.25</td>\n",
       "      <td>0.0</td>\n",
       "      <td>21.0</td>\n",
       "      <td>11.0</td>\n",
       "      <td>0</td>\n",
       "      <td>5.0</td>\n",
       "      <td>1</td>\n",
       "    </tr>\n",
       "    <tr>\n",
       "      <th>163387</th>\n",
       "      <td>9000</td>\n",
       "      <td>3</td>\n",
       "      <td>12.99</td>\n",
       "      <td>NaN</td>\n",
       "      <td>0.16</td>\n",
       "      <td>76757.00</td>\n",
       "      <td>0.16</td>\n",
       "      <td>0.2</td>\n",
       "      <td>17.87</td>\n",
       "      <td>0.0</td>\n",
       "      <td>42.8</td>\n",
       "      <td>32.0</td>\n",
       "      <td>0</td>\n",
       "      <td>13.0</td>\n",
       "      <td>1</td>\n",
       "    </tr>\n",
       "    <tr>\n",
       "      <th>163445</th>\n",
       "      <td>7325</td>\n",
       "      <td>3</td>\n",
       "      <td>14.31</td>\n",
       "      <td>NaN</td>\n",
       "      <td>0.2</td>\n",
       "      <td>28800.00</td>\n",
       "      <td>0.13</td>\n",
       "      <td>0.18</td>\n",
       "      <td>8.17</td>\n",
       "      <td>5.0</td>\n",
       "      <td>38.0</td>\n",
       "      <td>28.0</td>\n",
       "      <td>0</td>\n",
       "      <td>19.0</td>\n",
       "      <td>1</td>\n",
       "    </tr>\n",
       "    <tr>\n",
       "      <th>163472</th>\n",
       "      <td>6000</td>\n",
       "      <td>3</td>\n",
       "      <td>18.54</td>\n",
       "      <td>NaN</td>\n",
       "      <td>0.16</td>\n",
       "      <td>25032.00</td>\n",
       "      <td>0.19</td>\n",
       "      <td>0.2</td>\n",
       "      <td>24.78</td>\n",
       "      <td>0.0</td>\n",
       "      <td>71.9</td>\n",
       "      <td>59.0</td>\n",
       "      <td>0</td>\n",
       "      <td>25.0</td>\n",
       "      <td>1</td>\n",
       "    </tr>\n",
       "    <tr>\n",
       "      <th>163498</th>\n",
       "      <td>20000</td>\n",
       "      <td>5</td>\n",
       "      <td>17.86</td>\n",
       "      <td>NaN</td>\n",
       "      <td>0.16</td>\n",
       "      <td>84649.56</td>\n",
       "      <td>0.19</td>\n",
       "      <td>0.23</td>\n",
       "      <td>5.85</td>\n",
       "      <td>0.0</td>\n",
       "      <td>51.7</td>\n",
       "      <td>25.0</td>\n",
       "      <td>0</td>\n",
       "      <td>48.0</td>\n",
       "      <td>1</td>\n",
       "    </tr>\n",
       "    <tr>\n",
       "      <th>163530</th>\n",
       "      <td>6500</td>\n",
       "      <td>3</td>\n",
       "      <td>13.66</td>\n",
       "      <td>NaN</td>\n",
       "      <td>0.2</td>\n",
       "      <td>22000.00</td>\n",
       "      <td>0.19</td>\n",
       "      <td>0.17</td>\n",
       "      <td>30.88</td>\n",
       "      <td>0.0</td>\n",
       "      <td>23.0</td>\n",
       "      <td>58.0</td>\n",
       "      <td>0</td>\n",
       "      <td>25.0</td>\n",
       "      <td>1</td>\n",
       "    </tr>\n",
       "    <tr>\n",
       "      <th>163534</th>\n",
       "      <td>2000</td>\n",
       "      <td>3</td>\n",
       "      <td>13.66</td>\n",
       "      <td>NaN</td>\n",
       "      <td>0.2</td>\n",
       "      <td>25000.00</td>\n",
       "      <td>0.14</td>\n",
       "      <td>0.16</td>\n",
       "      <td>20.07</td>\n",
       "      <td>0.0</td>\n",
       "      <td>19.8</td>\n",
       "      <td>20.0</td>\n",
       "      <td>0</td>\n",
       "      <td>11.0</td>\n",
       "      <td>1</td>\n",
       "    </tr>\n",
       "    <tr>\n",
       "      <th>163561</th>\n",
       "      <td>6675</td>\n",
       "      <td>3</td>\n",
       "      <td>21.99</td>\n",
       "      <td>NaN</td>\n",
       "      <td>0.2</td>\n",
       "      <td>13536.00</td>\n",
       "      <td>0.19</td>\n",
       "      <td>0.17</td>\n",
       "      <td>16.13</td>\n",
       "      <td>0.0</td>\n",
       "      <td>51.1</td>\n",
       "      <td>4.0</td>\n",
       "      <td>0</td>\n",
       "      <td>9.0</td>\n",
       "      <td>1</td>\n",
       "    </tr>\n",
       "    <tr>\n",
       "      <th>163574</th>\n",
       "      <td>15875</td>\n",
       "      <td>3</td>\n",
       "      <td>16.49</td>\n",
       "      <td>NaN</td>\n",
       "      <td>0.16</td>\n",
       "      <td>46750.00</td>\n",
       "      <td>0.19</td>\n",
       "      <td>0.18</td>\n",
       "      <td>29.63</td>\n",
       "      <td>0.0</td>\n",
       "      <td>37.9</td>\n",
       "      <td>20.0</td>\n",
       "      <td>0</td>\n",
       "      <td>8.0</td>\n",
       "      <td>1</td>\n",
       "    </tr>\n",
       "    <tr>\n",
       "      <th>163585</th>\n",
       "      <td>8800</td>\n",
       "      <td>3</td>\n",
       "      <td>14.99</td>\n",
       "      <td>NaN</td>\n",
       "      <td>0.2</td>\n",
       "      <td>86000.00</td>\n",
       "      <td>0.19</td>\n",
       "      <td>0.11</td>\n",
       "      <td>13.32</td>\n",
       "      <td>0.0</td>\n",
       "      <td>73.1</td>\n",
       "      <td>16.0</td>\n",
       "      <td>0</td>\n",
       "      <td>19.0</td>\n",
       "      <td>1</td>\n",
       "    </tr>\n",
       "    <tr>\n",
       "      <th>163599</th>\n",
       "      <td>10000</td>\n",
       "      <td>3</td>\n",
       "      <td>14.99</td>\n",
       "      <td>NaN</td>\n",
       "      <td>0.16</td>\n",
       "      <td>55200.00</td>\n",
       "      <td>0.19</td>\n",
       "      <td>0.21</td>\n",
       "      <td>29.11</td>\n",
       "      <td>0.0</td>\n",
       "      <td>28.7</td>\n",
       "      <td>54.0</td>\n",
       "      <td>0</td>\n",
       "      <td>20.0</td>\n",
       "      <td>1</td>\n",
       "    </tr>\n",
       "    <tr>\n",
       "      <th>163773</th>\n",
       "      <td>15650</td>\n",
       "      <td>5</td>\n",
       "      <td>15.99</td>\n",
       "      <td>NaN</td>\n",
       "      <td>0.16</td>\n",
       "      <td>37500.00</td>\n",
       "      <td>0.19</td>\n",
       "      <td>0.2</td>\n",
       "      <td>15.78</td>\n",
       "      <td>3.0</td>\n",
       "      <td>43.1</td>\n",
       "      <td>30.0</td>\n",
       "      <td>0</td>\n",
       "      <td>22.0</td>\n",
       "      <td>1</td>\n",
       "    </tr>\n",
       "    <tr>\n",
       "      <th>163788</th>\n",
       "      <td>17000</td>\n",
       "      <td>5</td>\n",
       "      <td>14.31</td>\n",
       "      <td>NaN</td>\n",
       "      <td>0.19</td>\n",
       "      <td>65000.00</td>\n",
       "      <td>0.19</td>\n",
       "      <td>0.17</td>\n",
       "      <td>11.65</td>\n",
       "      <td>0.0</td>\n",
       "      <td>27.8</td>\n",
       "      <td>19.0</td>\n",
       "      <td>0</td>\n",
       "      <td>15.0</td>\n",
       "      <td>1</td>\n",
       "    </tr>\n",
       "    <tr>\n",
       "      <th>163806</th>\n",
       "      <td>3500</td>\n",
       "      <td>3</td>\n",
       "      <td>8.67</td>\n",
       "      <td>NaN</td>\n",
       "      <td>0.19</td>\n",
       "      <td>30000.00</td>\n",
       "      <td>0.19</td>\n",
       "      <td>0.16</td>\n",
       "      <td>20.96</td>\n",
       "      <td>0.0</td>\n",
       "      <td>62.0</td>\n",
       "      <td>11.0</td>\n",
       "      <td>0</td>\n",
       "      <td>43.0</td>\n",
       "      <td>1</td>\n",
       "    </tr>\n",
       "    <tr>\n",
       "      <th>163812</th>\n",
       "      <td>9000</td>\n",
       "      <td>3</td>\n",
       "      <td>12.99</td>\n",
       "      <td>NaN</td>\n",
       "      <td>0.16</td>\n",
       "      <td>45000.00</td>\n",
       "      <td>0.19</td>\n",
       "      <td>0.17</td>\n",
       "      <td>7.23</td>\n",
       "      <td>0.0</td>\n",
       "      <td>27.0</td>\n",
       "      <td>28.0</td>\n",
       "      <td>0</td>\n",
       "      <td>16.0</td>\n",
       "      <td>1</td>\n",
       "    </tr>\n",
       "    <tr>\n",
       "      <th>163856</th>\n",
       "      <td>2500</td>\n",
       "      <td>3</td>\n",
       "      <td>20.99</td>\n",
       "      <td>NaN</td>\n",
       "      <td>0.19</td>\n",
       "      <td>30000.00</td>\n",
       "      <td>0.18</td>\n",
       "      <td>0.2</td>\n",
       "      <td>15.44</td>\n",
       "      <td>0.0</td>\n",
       "      <td>16.5</td>\n",
       "      <td>57.0</td>\n",
       "      <td>1</td>\n",
       "      <td>8.0</td>\n",
       "      <td>1</td>\n",
       "    </tr>\n",
       "    <tr>\n",
       "      <th>163884</th>\n",
       "      <td>5950</td>\n",
       "      <td>3</td>\n",
       "      <td>17.86</td>\n",
       "      <td>NaN</td>\n",
       "      <td>0.16</td>\n",
       "      <td>68250.00</td>\n",
       "      <td>0.14</td>\n",
       "      <td>0.18</td>\n",
       "      <td>9.13</td>\n",
       "      <td>0.0</td>\n",
       "      <td>9.4</td>\n",
       "      <td>13.0</td>\n",
       "      <td>0</td>\n",
       "      <td>9.0</td>\n",
       "      <td>1</td>\n",
       "    </tr>\n",
       "    <tr>\n",
       "      <th>163888</th>\n",
       "      <td>12000</td>\n",
       "      <td>3</td>\n",
       "      <td>13.66</td>\n",
       "      <td>NaN</td>\n",
       "      <td>0.16</td>\n",
       "      <td>48000.00</td>\n",
       "      <td>0.19</td>\n",
       "      <td>0.18</td>\n",
       "      <td>18.28</td>\n",
       "      <td>0.0</td>\n",
       "      <td>49.7</td>\n",
       "      <td>32.0</td>\n",
       "      <td>0</td>\n",
       "      <td>18.0</td>\n",
       "      <td>1</td>\n",
       "    </tr>\n",
       "    <tr>\n",
       "      <th>163919</th>\n",
       "      <td>6000</td>\n",
       "      <td>3</td>\n",
       "      <td>14.99</td>\n",
       "      <td>NaN</td>\n",
       "      <td>0.2</td>\n",
       "      <td>31200.00</td>\n",
       "      <td>0.14</td>\n",
       "      <td>0.18</td>\n",
       "      <td>4.31</td>\n",
       "      <td>0.0</td>\n",
       "      <td>21.6</td>\n",
       "      <td>10.0</td>\n",
       "      <td>1</td>\n",
       "      <td>19.0</td>\n",
       "      <td>1</td>\n",
       "    </tr>\n",
       "    <tr>\n",
       "      <th>163950</th>\n",
       "      <td>5500</td>\n",
       "      <td>3</td>\n",
       "      <td>13.66</td>\n",
       "      <td>NaN</td>\n",
       "      <td>0.16</td>\n",
       "      <td>70675.00</td>\n",
       "      <td>0.16</td>\n",
       "      <td>0.18</td>\n",
       "      <td>11.45</td>\n",
       "      <td>0.0</td>\n",
       "      <td>36.1</td>\n",
       "      <td>34.0</td>\n",
       "      <td>0</td>\n",
       "      <td>42.0</td>\n",
       "      <td>1</td>\n",
       "    </tr>\n",
       "  </tbody>\n",
       "</table>\n",
       "<p>5804 rows × 15 columns</p>\n",
       "</div>"
      ],
      "text/plain": [
       "        loan_amnt  term  int_rate  emp_length home_ownership  annual_inc  \\\n",
       "153          2500     3      7.51         NaN           0.19    12000.00   \n",
       "352          4000     3     11.71         NaN            0.2    24000.00   \n",
       "377          1000     3     14.65         NaN            0.2    18408.00   \n",
       "390          8250     3      7.51         NaN           0.16    31500.00   \n",
       "476          1700     3      7.90         NaN           0.16    37800.00   \n",
       "496          5000     3      8.90         NaN           0.16    70000.00   \n",
       "503          3000     3      9.91         NaN           0.16    42000.00   \n",
       "508          8575     3     17.58         NaN           0.16    32000.00   \n",
       "604          5600     3      6.03         NaN           0.19    41100.00   \n",
       "668         14125     3     12.42         NaN           0.16    45696.00   \n",
       "792          2250     3     15.27         NaN           0.16    17352.00   \n",
       "856          7000     3      6.62         NaN           0.16    24000.00   \n",
       "865         15000     3     12.42         NaN            0.2    60000.00   \n",
       "954         12000     3      6.03         NaN           0.19    40000.00   \n",
       "956         15000     3     17.27         NaN           0.19    57000.00   \n",
       "979          8500     3     15.96         NaN            0.2    27050.00   \n",
       "994          5000     3      7.51         NaN            0.2    84855.00   \n",
       "1002         4000     3     15.27         NaN           0.19    25000.00   \n",
       "1013         5000     3     14.65         NaN           0.16    48000.00   \n",
       "1075         5000     3      7.90         NaN            0.2    30000.00   \n",
       "1097         1400     3      8.90         NaN           0.16    30108.00   \n",
       "1118         9250     3     10.65         NaN           0.19    20000.00   \n",
       "1147         7200     3     12.69         NaN           0.16    45000.00   \n",
       "1160         5325     3     12.42         NaN            0.2    22000.00   \n",
       "1168        12000     3      7.51         NaN           0.16    60000.00   \n",
       "1224         8000     3      9.91         NaN            0.2    60000.00   \n",
       "1229        10000     3      6.03         NaN           0.19    37200.00   \n",
       "1244        15000     3     17.58         NaN           0.19    62400.00   \n",
       "1247         2125     3      8.90         NaN            0.2    43000.00   \n",
       "1323        20000     5     17.27         NaN           0.16    40406.00   \n",
       "...           ...   ...       ...         ...            ...         ...   \n",
       "163172      23925     5     17.86         NaN           0.16    48000.00   \n",
       "163184       7900     3     12.39         NaN           0.16    20000.00   \n",
       "163191       6000     3     12.39         NaN           0.16    25000.00   \n",
       "163236       5000     3      6.49         NaN           0.16    96000.00   \n",
       "163261      28300     3     15.59         NaN            0.2    63000.00   \n",
       "163262      16000     3     12.99         NaN           0.16    47896.00   \n",
       "163286       5450     3      8.19         NaN            0.2    15996.00   \n",
       "163295      10000     3     11.99         NaN           0.16    40000.00   \n",
       "163319      11050     5     25.89         NaN           0.19    40218.00   \n",
       "163328      19875     3     19.99         NaN           0.16    46500.00   \n",
       "163384       8400     3     13.66         NaN            0.2    33500.00   \n",
       "163387       9000     3     12.99         NaN           0.16    76757.00   \n",
       "163445       7325     3     14.31         NaN            0.2    28800.00   \n",
       "163472       6000     3     18.54         NaN           0.16    25032.00   \n",
       "163498      20000     5     17.86         NaN           0.16    84649.56   \n",
       "163530       6500     3     13.66         NaN            0.2    22000.00   \n",
       "163534       2000     3     13.66         NaN            0.2    25000.00   \n",
       "163561       6675     3     21.99         NaN            0.2    13536.00   \n",
       "163574      15875     3     16.49         NaN           0.16    46750.00   \n",
       "163585       8800     3     14.99         NaN            0.2    86000.00   \n",
       "163599      10000     3     14.99         NaN           0.16    55200.00   \n",
       "163773      15650     5     15.99         NaN           0.16    37500.00   \n",
       "163788      17000     5     14.31         NaN           0.19    65000.00   \n",
       "163806       3500     3      8.67         NaN           0.19    30000.00   \n",
       "163812       9000     3     12.99         NaN           0.16    45000.00   \n",
       "163856       2500     3     20.99         NaN           0.19    30000.00   \n",
       "163884       5950     3     17.86         NaN           0.16    68250.00   \n",
       "163888      12000     3     13.66         NaN           0.16    48000.00   \n",
       "163919       6000     3     14.99         NaN            0.2    31200.00   \n",
       "163950       5500     3     13.66         NaN           0.16    70675.00   \n",
       "\n",
       "       purpose addr_state    dti  delinq_2yrs  revol_util  total_acc  \\\n",
       "153       0.19       0.18  16.30          0.0        42.2       20.0   \n",
       "352       0.16       0.21   7.50          1.0        54.9        6.0   \n",
       "377       0.14        0.2   6.00          0.0        83.7        8.0   \n",
       "390       0.19       0.18  17.87          0.0        10.4       37.0   \n",
       "476       0.16       0.14  27.00          0.0        91.2       27.0   \n",
       "496       0.21       0.18  16.17          1.0        53.0       32.0   \n",
       "503       0.23       0.18   4.29          0.0        33.3        3.0   \n",
       "508       0.19       0.21  22.54          0.0        89.9        5.0   \n",
       "604       0.13       0.19   3.97          0.0         2.7       44.0   \n",
       "668       0.19       0.19  21.93          0.0        91.5       26.0   \n",
       "792       0.21       0.21  19.50          0.0        90.3        8.0   \n",
       "856       0.13       0.18  11.45          0.0        22.9       24.0   \n",
       "865       0.19       0.18  14.18          0.0        72.5       19.0   \n",
       "954       0.16       0.18  18.75          0.0        51.1       25.0   \n",
       "956       0.19       0.18  12.08          0.0        89.0       13.0   \n",
       "979       0.16       0.18  10.25          0.0        62.7       10.0   \n",
       "994       0.21       0.18  14.14          0.0        20.5       18.0   \n",
       "1002      0.19       0.16  12.62          0.0        91.0        9.0   \n",
       "1013      0.16       0.16  19.57          0.0        74.3       26.0   \n",
       "1075      0.19       0.17  12.64          0.0        94.8       14.0   \n",
       "1097      0.19        0.2  20.29          0.0        33.4       40.0   \n",
       "1118      0.19       0.18   9.18          0.0        48.4       12.0   \n",
       "1147      0.16       0.18  11.39          0.0        76.4       18.0   \n",
       "1160      0.16       0.18  12.55          0.0        88.5       14.0   \n",
       "1168      0.19       0.17   5.66          0.0        40.7       12.0   \n",
       "1224      0.16       0.18  19.90          0.0         0.0        5.0   \n",
       "1229      0.16       0.19  17.42          0.0        20.3       13.0   \n",
       "1244      0.19       0.18  19.10          0.0        81.0       47.0   \n",
       "1247      0.16       0.16  21.60          0.0        14.3       19.0   \n",
       "1323      0.16       0.23  17.52          1.0        70.3       31.0   \n",
       "...        ...        ...    ...          ...         ...        ...   \n",
       "163172    0.19       0.19  27.29          0.0        96.2       19.0   \n",
       "163184    0.16       0.18  13.69          0.0        31.7       41.0   \n",
       "163191     0.2       0.14   2.16          0.0         5.2       20.0   \n",
       "163236    0.19       0.18  26.91          0.0        80.0       41.0   \n",
       "163261    0.19       0.19  27.14          0.0        47.0       41.0   \n",
       "163262    0.16       0.16  13.00          0.0        63.3       22.0   \n",
       "163286    0.19       0.23  22.13          0.0        29.5       29.0   \n",
       "163295    0.19       0.22  16.53          1.0        31.0       18.0   \n",
       "163319    0.16       0.18  20.80          1.0        32.6       16.0   \n",
       "163328    0.21       0.22  11.17          1.0        52.0       31.0   \n",
       "163384    0.19       0.16  12.25          0.0        21.0       11.0   \n",
       "163387    0.16        0.2  17.87          0.0        42.8       32.0   \n",
       "163445    0.13       0.18   8.17          5.0        38.0       28.0   \n",
       "163472    0.19        0.2  24.78          0.0        71.9       59.0   \n",
       "163498    0.19       0.23   5.85          0.0        51.7       25.0   \n",
       "163530    0.19       0.17  30.88          0.0        23.0       58.0   \n",
       "163534    0.14       0.16  20.07          0.0        19.8       20.0   \n",
       "163561    0.19       0.17  16.13          0.0        51.1        4.0   \n",
       "163574    0.19       0.18  29.63          0.0        37.9       20.0   \n",
       "163585    0.19       0.11  13.32          0.0        73.1       16.0   \n",
       "163599    0.19       0.21  29.11          0.0        28.7       54.0   \n",
       "163773    0.19        0.2  15.78          3.0        43.1       30.0   \n",
       "163788    0.19       0.17  11.65          0.0        27.8       19.0   \n",
       "163806    0.19       0.16  20.96          0.0        62.0       11.0   \n",
       "163812    0.19       0.17   7.23          0.0        27.0       28.0   \n",
       "163856    0.18        0.2  15.44          0.0        16.5       57.0   \n",
       "163884    0.14       0.18   9.13          0.0         9.4       13.0   \n",
       "163888    0.19       0.18  18.28          0.0        49.7       32.0   \n",
       "163919    0.14       0.18   4.31          0.0        21.6       10.0   \n",
       "163950    0.16       0.18  11.45          0.0        36.1       34.0   \n",
       "\n",
       "        bad_loan  longest_credit_length verification_status  \n",
       "153            1                   17.0                   1  \n",
       "352            0                    6.0                   1  \n",
       "377            1                   18.0                  -1  \n",
       "390            0                   30.0                   1  \n",
       "476            1                   32.0                  -1  \n",
       "496            0                   28.0                   1  \n",
       "503            0                    6.0                  -1  \n",
       "508            1                    7.0                   1  \n",
       "604            0                   21.0                  -1  \n",
       "668            1                   11.0                   1  \n",
       "792            0                   10.0                   1  \n",
       "856            0                   29.0                   1  \n",
       "865            0                   18.0                   1  \n",
       "954            0                   30.0                   1  \n",
       "956            0                    5.0                   1  \n",
       "979            1                    6.0                   1  \n",
       "994            1                   23.0                   1  \n",
       "1002           1                    8.0                  -1  \n",
       "1013           0                   25.0                  -1  \n",
       "1075           0                   12.0                  -1  \n",
       "1097           1                   25.0                  -1  \n",
       "1118           0                   10.0                   1  \n",
       "1147           0                   17.0                   1  \n",
       "1160           1                    9.0                   1  \n",
       "1168           0                   23.0                   1  \n",
       "1224           1                    5.0                   1  \n",
       "1229           0                   33.0                   1  \n",
       "1244           0                   22.0                   1  \n",
       "1247           0                    7.0                   1  \n",
       "1323           0                   12.0                   1  \n",
       "...          ...                    ...                 ...  \n",
       "163172         0                   28.0                   1  \n",
       "163184         0                   26.0                   1  \n",
       "163191         0                   27.0                   1  \n",
       "163236         0                   34.0                   1  \n",
       "163261         0                   23.0                   1  \n",
       "163262         0                   20.0                   1  \n",
       "163286         0                   26.0                   1  \n",
       "163295         0                   11.0                   1  \n",
       "163319         0                   16.0                   1  \n",
       "163328         0                   20.0                   1  \n",
       "163384         0                    5.0                   1  \n",
       "163387         0                   13.0                   1  \n",
       "163445         0                   19.0                   1  \n",
       "163472         0                   25.0                   1  \n",
       "163498         0                   48.0                   1  \n",
       "163530         0                   25.0                   1  \n",
       "163534         0                   11.0                   1  \n",
       "163561         0                    9.0                   1  \n",
       "163574         0                    8.0                   1  \n",
       "163585         0                   19.0                   1  \n",
       "163599         0                   20.0                   1  \n",
       "163773         0                   22.0                   1  \n",
       "163788         0                   15.0                   1  \n",
       "163806         0                   43.0                   1  \n",
       "163812         0                   16.0                   1  \n",
       "163856         1                    8.0                   1  \n",
       "163884         0                    9.0                   1  \n",
       "163888         0                   18.0                   1  \n",
       "163919         1                   19.0                   1  \n",
       "163950         0                   42.0                   1  \n",
       "\n",
       "[5804 rows x 15 columns]"
      ]
     },
     "execution_count": 167,
     "metadata": {},
     "output_type": "execute_result"
    }
   ],
   "source": [
    "#To return the rows with NaN values in a particular column in the dataframe\n",
    "df2.loc[df2['emp_length'].isnull()]\n"
   ]
  },
  {
   "cell_type": "code",
   "execution_count": 278,
   "metadata": {
    "collapsed": true
   },
   "outputs": [],
   "source": [
    "#Let's find out the median of emp_length and replace the NaN values with it\n",
    "\n",
    "df2.loc[df2['emp_length'].isnull(), 'emp_length']=df2['emp_length'].median()\n",
    "\n"
   ]
  },
  {
   "cell_type": "code",
   "execution_count": 279,
   "metadata": {
    "scrolled": true
   },
   "outputs": [
    {
     "data": {
      "text/plain": [
       "emp_length\n",
       "0.0     14248\n",
       "1.0     11414\n",
       "2.0     15766\n",
       "3.0     13611\n",
       "4.0     11024\n",
       "5.0     12347\n",
       "6.0     15804\n",
       "7.0      9079\n",
       "8.0      7424\n",
       "9.0      6087\n",
       "10.0    47183\n",
       "Name: bad_loan, dtype: int64"
      ]
     },
     "execution_count": 279,
     "metadata": {},
     "output_type": "execute_result"
    }
   ],
   "source": [
    "#Let's check this one time whether the null values in the column: emp_length has really been replaced with the median value of the column\n",
    "\n",
    "#We shall run the group by command from above to check whether the count has gone up for 6.0\n",
    "\n",
    "df2.groupby('emp_length')['bad_loan'].count() \n",
    "\n",
    "#As can be seen the count for emp_length=6.0 has gone up from 10000 to 15804 as the null values are replaced with the median value 6.0"
   ]
  },
  {
   "cell_type": "code",
   "execution_count": 280,
   "metadata": {},
   "outputs": [
    {
     "data": {
      "text/plain": [
       "0    0.16\n",
       "dtype: object"
      ]
     },
     "execution_count": 280,
     "metadata": {},
     "output_type": "execute_result"
    }
   ],
   "source": [
    "#to deal with null values in the column: 'home_ownership'. This is a categorical column so we have to replace the null\n",
    "#values using the frequent variable in the column. Note that the categorical values in the column were already replaced\n",
    "# with numerical value through target encoding at this time. So we will get a numerical value as result to find the mode of\n",
    "# the column. We are doing this step in backwards. Ideally, one can check for null values before starting feature engineering step\n",
    "#replace the NaN values with the most frequent variable and then convert every categorical variable into numerical value. But doing this way is not wrong either.\n",
    "\n",
    "df2['home_ownership'].mode()\n",
    "\n",
    "\n"
   ]
  },
  {
   "cell_type": "code",
   "execution_count": 281,
   "metadata": {
    "collapsed": true
   },
   "outputs": [],
   "source": [
    "df2.loc[df2['home_ownership'].isnull(), 'home_ownership']=df2['home_ownership'].mode()"
   ]
  },
  {
   "cell_type": "code",
   "execution_count": 282,
   "metadata": {
    "collapsed": true
   },
   "outputs": [],
   "source": [
    "#Similarly the null values are replaced for the numerical feature: 'annual_inc' \n",
    "df2.loc[df2['annual_inc'].isnull(), 'annual_inc']=df2['annual_inc'].median()"
   ]
  },
  {
   "cell_type": "code",
   "execution_count": 283,
   "metadata": {
    "collapsed": true
   },
   "outputs": [],
   "source": [
    "#Replacing null values for categorical features:'delinq_2yrs', 'revol_util', 'total_acc', 'longest_credit_length'\n",
    "df2.loc[df2['delinq_2yrs'].isnull(), 'delinq_2yrs']=df2['delinq_2yrs'].median()\n",
    "df2.loc[df2['revol_util'].isnull(), 'revol_util']=df2['revol_util'].median()\n",
    "df2.loc[df2['total_acc'].isnull(), 'total_acc']=df2['total_acc'].median()\n",
    "df2.loc[df2['longest_credit_length'].isnull(), 'longest_credit_length']=df2['longest_credit_length'].median()\n",
    "\n",
    "\n",
    "\n",
    "\n"
   ]
  },
  {
   "cell_type": "code",
   "execution_count": 284,
   "metadata": {
    "collapsed": true
   },
   "outputs": [],
   "source": [
    "#Replacing null values for categorical features:'addr_state',  \n",
    "df2.loc[df2['addr_state'].isnull(), 'addr_state']=df2['addr_state'].mode()\n",
    "\n"
   ]
  },
  {
   "cell_type": "code",
   "execution_count": 285,
   "metadata": {},
   "outputs": [
    {
     "data": {
      "text/plain": [
       "Index(['home_ownership', 'addr_state'], dtype='object')"
      ]
     },
     "execution_count": 285,
     "metadata": {},
     "output_type": "execute_result"
    }
   ],
   "source": [
    "#Now, let's check whether df2 still consists of any null values. Even after replacing null values with median and mode they exist\n",
    "#in the following two columns. There could be some special characters or space that could be bothering the replacing of \n",
    "#null values\n",
    "df2.columns[df2.isnull().any()]"
   ]
  },
  {
   "cell_type": "code",
   "execution_count": 286,
   "metadata": {
    "collapsed": true
   },
   "outputs": [],
   "source": [
    "#Going to replace null values in the columns manually.\n",
    "#Note: df2['addr_state'].mode() = 0.18\n",
    "\n",
    "df2.loc[df2['addr_state'].isnull()]=0.18\n"
   ]
  },
  {
   "cell_type": "code",
   "execution_count": 287,
   "metadata": {},
   "outputs": [
    {
     "data": {
      "text/plain": [
       "Index(['home_ownership'], dtype='object')"
      ]
     },
     "execution_count": 287,
     "metadata": {},
     "output_type": "execute_result"
    }
   ],
   "source": [
    "#Luckily the null values in the column:addr_state are replaced now\n",
    "df2.columns[df2.isnull().any()]"
   ]
  },
  {
   "cell_type": "code",
   "execution_count": 288,
   "metadata": {
    "collapsed": true
   },
   "outputs": [],
   "source": [
    "#Likewise the one record with null value in the column:home_ownership can be replaced manually\n",
    "#Note: df2['home_ownership'].mode() = 0.16\n",
    "\n",
    "df2.loc[df2['home_ownership'].isnull(), 'home_ownership']=0.16"
   ]
  },
  {
   "cell_type": "code",
   "execution_count": 289,
   "metadata": {
    "scrolled": true
   },
   "outputs": [
    {
     "data": {
      "text/plain": [
       "Index([], dtype='object')"
      ]
     },
     "execution_count": 289,
     "metadata": {},
     "output_type": "execute_result"
    }
   ],
   "source": [
    "#Hooray, there are no null values in any column in the dataframe\n",
    "df2.columns[df2.isnull().any()]"
   ]
  },
  {
   "cell_type": "code",
   "execution_count": null,
   "metadata": {
    "collapsed": true
   },
   "outputs": [],
   "source": [
    "#Deal with imbalanced class in the column: bad_loan\n",
    "\n",
    "\n"
   ]
  },
  {
   "cell_type": "code",
   "execution_count": 294,
   "metadata": {
    "collapsed": true,
    "scrolled": true
   },
   "outputs": [],
   "source": [
    "y=df2['bad_loan'].astype(int).values"
   ]
  },
  {
   "cell_type": "code",
   "execution_count": 295,
   "metadata": {},
   "outputs": [
    {
     "data": {
      "text/plain": [
       "array([0, 1, 0, ..., 0, 0, 0])"
      ]
     },
     "execution_count": 295,
     "metadata": {},
     "output_type": "execute_result"
    }
   ],
   "source": [
    "y"
   ]
  },
  {
   "cell_type": "code",
   "execution_count": 296,
   "metadata": {
    "collapsed": true
   },
   "outputs": [],
   "source": [
    "df2=df2.drop('bad_loan', axis=1)"
   ]
  },
  {
   "cell_type": "code",
   "execution_count": 297,
   "metadata": {
    "collapsed": true
   },
   "outputs": [],
   "source": [
    "X=df2.values"
   ]
  },
  {
   "cell_type": "code",
   "execution_count": 306,
   "metadata": {
    "collapsed": true
   },
   "outputs": [],
   "source": [
    "X_train2, X_test2, y_train2, y_test2 = train_test_split(X, y, test_size=0.25, random_state=42)"
   ]
  },
  {
   "cell_type": "code",
   "execution_count": 307,
   "metadata": {
    "collapsed": true
   },
   "outputs": [],
   "source": [
    "X_train22, X_valid22, y_train22, y_valid22=train_test_split(X_train2, y_train2, random_state=42)"
   ]
  },
  {
   "cell_type": "code",
   "execution_count": 308,
   "metadata": {},
   "outputs": [
    {
     "name": "stdout",
     "output_type": "stream",
     "text": [
      "             precision    recall  f1-score   support\n",
      "\n",
      "          0       0.82      1.00      0.90     25200\n",
      "          1       0.35      0.00      0.00      5548\n",
      "\n",
      "avg / total       0.74      0.82      0.74     30748\n",
      "\n"
     ]
    }
   ],
   "source": [
    "#Logistic Regression\n",
    "\n",
    "clf_log = LogisticRegression(random_state=42, solver='lbfgs', multi_class='ovr').fit(X_train22, y_train22)\n",
    "y_pred_log=clf_log.predict(X_valid22)\n",
    "print(classification_report(y_valid22, y_pred_log))"
   ]
  },
  {
   "cell_type": "code",
   "execution_count": 311,
   "metadata": {
    "scrolled": true
   },
   "outputs": [
    {
     "name": "stdout",
     "output_type": "stream",
     "text": [
      "             precision    recall  f1-score   support\n",
      "\n",
      "          0       0.89      0.65      0.75     25200\n",
      "          1       0.28      0.62      0.38      5548\n",
      "\n",
      "avg / total       0.78      0.64      0.68     30748\n",
      "\n"
     ]
    }
   ],
   "source": [
    "#Random Forest\n",
    "clf_rf2 = RandomForestClassifier(n_estimators=100, max_depth=2,random_state=42, class_weight=\"balanced\")\n",
    "clf_rf2.fit(X_train22, y_train22)\n",
    "y_pred_rf=clf_rf2.predict(X_valid22)\n",
    "print(classification_report(y_valid22, y_pred_rf))"
   ]
  },
  {
   "cell_type": "code",
   "execution_count": 317,
   "metadata": {},
   "outputs": [
    {
     "name": "stdout",
     "output_type": "stream",
     "text": [
      "             precision    recall  f1-score   support\n",
      "\n",
      "          0       0.89      0.65      0.75     25200\n",
      "          1       0.28      0.62      0.38      5548\n",
      "\n",
      "avg / total       0.78      0.64      0.68     30748\n",
      "\n"
     ]
    }
   ],
   "source": [
    "#Ada Boost Classifier\n",
    "from sklearn.tree import DecisionTreeClassifier \n",
    "clf_ada2=AdaBoostClassifier(base_estimator=(DecisionTreeClassifier(max_depth=4, class_weight=\"balanced\")), n_estimators=100, learning_rate=1.0, algorithm='SAMME.R', random_state=40)\n",
    "clf_ada2.fit(X_train22, y_train22)\n",
    "y_pred_ada=clf_ada2.predict(X_valid22)\n",
    "print(classification_report(y_valid22, y_pred_rf))"
   ]
  },
  {
   "cell_type": "code",
   "execution_count": null,
   "metadata": {
    "collapsed": true
   },
   "outputs": [],
   "source": []
  },
  {
   "cell_type": "code",
   "execution_count": null,
   "metadata": {
    "collapsed": true
   },
   "outputs": [],
   "source": [
    "There are many other methods to implement a better feature engineering process. In target encoding, it turns out it is \n",
    "even better to calculate weighted average of the overall mean of the training set and the mean of the level:\n"
   ]
  }
 ],
 "metadata": {
  "kernelspec": {
   "display_name": "Python [conda root]",
   "language": "python",
   "name": "conda-root-py"
  },
  "language_info": {
   "codemirror_mode": {
    "name": "ipython",
    "version": 3
   },
   "file_extension": ".py",
   "mimetype": "text/x-python",
   "name": "python",
   "nbconvert_exporter": "python",
   "pygments_lexer": "ipython3",
   "version": "3.5.4"
  }
 },
 "nbformat": 4,
 "nbformat_minor": 2
}
