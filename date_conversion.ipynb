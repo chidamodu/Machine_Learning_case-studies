{
 "cells": [
  {
   "cell_type": "code",
   "execution_count": null,
   "metadata": {
    "collapsed": true
   },
   "outputs": [],
   "source": [
    "import numpy as np\n",
    "import pandas as pd\n",
    "\n",
    "class Dateconversion():\n",
    "\n",
    "    def __init__(self, df1):\n",
    "        self.df1 = df1\n",
    "\n",
    "    def convert_dates(self):\n",
    "        '''\n",
    "        Convert dates to Datetime format\n",
    "        '''\n",
    "        date_fields = ['approx_payout_date',\n",
    "                        'event_created',\n",
    "                        'event_end',\n",
    "                        'event_start',\n",
    "                        'user_created']\n",
    "        for element in date_fields:\n",
    "            self.df1[element] = pd.to_datetime(self.df1[element],unit='s')\n",
    "            self.df1[element]=self.df1[element].dt.date    \n",
    "        return self.df1\n",
    "\n",
    "    def fillnull(self,col_name,val):\n",
    "        '''\n",
    "        Impute defined value val into col_name. Operates over one column at a time\n",
    "        To run outside of class\n",
    "        '''\n",
    "        self.df1[col_name] = self.df1[col_name].fillna(val)\n",
    "        return self.df1"
   ]
  }
 ],
 "metadata": {
  "kernelspec": {
   "display_name": "Python [conda root]",
   "language": "python",
   "name": "conda-root-py"
  },
  "language_info": {
   "codemirror_mode": {
    "name": "ipython",
    "version": 3
   },
   "file_extension": ".py",
   "mimetype": "text/x-python",
   "name": "python",
   "nbconvert_exporter": "python",
   "pygments_lexer": "ipython3",
   "version": "3.5.4"
  }
 },
 "nbformat": 4,
 "nbformat_minor": 2
}
