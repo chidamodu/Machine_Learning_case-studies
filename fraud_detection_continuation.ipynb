{
 "cells": [
  {
   "cell_type": "code",
   "execution_count": null,
   "metadata": {
    "collapsed": true
   },
   "outputs": [],
   "source": [
    "#continuation of Fraud_detection case study"
   ]
  },
  {
   "cell_type": "code",
   "execution_count": null,
   "metadata": {
    "collapsed": true
   },
   "outputs": [],
   "source": [
    "#first planning to inner_join both tables: df_ticket and df_payouts on event_id\n",
    "#use pd.merge to do inner_join if not joining the dataframes using the index - which is the situation on hand\n",
    "\n",
    "#df3=pd.merge(df_payouts, df_ticket, how='inner', on=[['event', 'event_id']])#still this didn't work\n",
    "\n",
    "#so going to try the follwoing format:it worked!it did but not the way i wanted. that's because by default join does left join\n",
    "#but i am trying inner join\n",
    "#df3=df_payouts.set_index('event').join((df_ticket.set_index('event_id'))\n",
    "\n",
    "df_payouts=df_payouts.set_index('event')\n",
    "df_ticket=df_ticket.set_index('event_id')\n",
    "\n",
    "df3=pd.merge(df_payouts, df_ticket, left_index=True, right_index=True)#but merge by default does inner join"
   ]
  },
  {
   "cell_type": "code",
   "execution_count": null,
   "metadata": {
    "collapsed": true
   },
   "outputs": [],
   "source": [
    "#this is after inner_joining df_payouts and df_ticket(the two dataframes comprising of previous payouts and ticket_type details)\n",
    "df3.columns#the columns after merging are listed as follows:\n",
    "address, amount, country, created, name, state, uid, zip_code, availability, cost, quantity_sold, quantity_total"
   ]
  },
  {
   "cell_type": "code",
   "execution_count": null,
   "metadata": {
    "collapsed": true
   },
   "outputs": [],
   "source": [
    "#maybe i could visualize how marketing effort affected transactions? and try to figure out something out of it?\n",
    "#assumption: given it's financial data gts could mean: global trade services. could keep it\n",
    "\n",
    "#features that I am not going to use in modelling:\n",
    "#'listed','object_id', 'org_desc', 'org_facebook', 'org_name', 'org_twitter'\n",
    "\n"
   ]
  },
  {
   "cell_type": "code",
   "execution_count": null,
   "metadata": {
    "collapsed": true
   },
   "outputs": [],
   "source": [
    "#An Originator– whether that's an individual, \n",
    "#a corporation or another entity– initiates either a Direct Deposit or Direct Payment transaction using the ACH Network.\n",
    "#Each ACH credit transaction settles in one to two business days,\n",
    "#and each debit transaction settles in just one business day, as per the Rules.\n",
    "\n",
    "#it's pretty interesting: would it be possible to assess whether where the fraud is more frequent - meaning which type of payout_type is more\n",
    "#to fraud transaction? is there a pattern?\n",
    "\n",
    "#have to do something about the empty options: ''\n",
    "\n",
    "df1['payout_type'].unique()\n",
    "array(['', 'CHECK', 'ACH'], dtype=object)"
   ]
  }
 ],
 "metadata": {
  "kernelspec": {
   "display_name": "Python [conda root]",
   "language": "python",
   "name": "conda-root-py"
  },
  "language_info": {
   "codemirror_mode": {
    "name": "ipython",
    "version": 3
   },
   "file_extension": ".py",
   "mimetype": "text/x-python",
   "name": "python",
   "nbconvert_exporter": "python",
   "pygments_lexer": "ipython3",
   "version": "3.5.4"
  }
 },
 "nbformat": 4,
 "nbformat_minor": 2
}
