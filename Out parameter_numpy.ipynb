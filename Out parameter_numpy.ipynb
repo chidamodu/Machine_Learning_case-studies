{
 "cells": [
  {
   "cell_type": "code",
   "execution_count": 1,
   "metadata": {},
   "outputs": [],
   "source": [
    "import numpy as np"
   ]
  },
  {
   "cell_type": "code",
   "execution_count": 2,
   "metadata": {},
   "outputs": [],
   "source": [
    "dWax = np.random.randn(5,3)*10\n",
    "\n",
    "# dWya = np.random.randn(2,5)*10\n",
    "# db = np.random.randn(5,1)*10\n",
    "# dby = np.random.randn(2,1)*10\n"
   ]
  },
  {
   "cell_type": "code",
   "execution_count": 3,
   "metadata": {},
   "outputs": [
    {
     "data": {
      "text/plain": [
       "array([[  5.72747626,  14.10880603,  -4.07655752],\n",
       "       [-12.7268726 ,   0.50812482, -11.93396853],\n",
       "       [ -2.21932677,   5.86116034,  25.88585026],\n",
       "       [ 19.35574264,  -9.13906209,  15.97523642],\n",
       "       [  7.44025786,  16.29066991,  14.44426297]])"
      ]
     },
     "execution_count": 3,
     "metadata": {},
     "output_type": "execute_result"
    }
   ],
   "source": [
    "dWax"
   ]
  },
  {
   "cell_type": "code",
   "execution_count": 4,
   "metadata": {},
   "outputs": [],
   "source": [
    "dWaa = np.random.randn(5,5)*10"
   ]
  },
  {
   "cell_type": "code",
   "execution_count": 5,
   "metadata": {},
   "outputs": [
    {
     "data": {
      "text/plain": [
       "array([[  3.25104955, -16.59823503,  -6.37918591,   0.0492513 ,\n",
       "        -18.92751789],\n",
       "       [ 10.89031348, -28.99935625,  10.85562958,  10.44545895,\n",
       "          0.78994174],\n",
       "       [ -9.72276176,   3.24765089,   3.67571324,   5.19428449,\n",
       "          8.56127634],\n",
       "       [ -9.39031003,  -7.27985537,  -6.86792215,   0.24831099,\n",
       "         -2.31927692],\n",
       "       [-11.43516556,  -2.84561694,   0.53372077,  -7.22127036,\n",
       "         -3.63359028]])"
      ]
     },
     "execution_count": 5,
     "metadata": {},
     "output_type": "execute_result"
    }
   ],
   "source": [
    "dWaa"
   ]
  },
  {
   "cell_type": "code",
   "execution_count": 7,
   "metadata": {},
   "outputs": [
    {
     "name": "stdout",
     "output_type": "stream",
     "text": [
      "[[  5.72747626  10.          -4.07655752]\n",
      " [-10.           0.50812482 -10.        ]\n",
      " [ -2.21932677   5.86116034  10.        ]\n",
      " [ 10.          -9.13906209  10.        ]\n",
      " [  7.44025786  10.          10.        ]]\n",
      "[[  3.25104955 -10.          -6.37918591   0.0492513  -10.        ]\n",
      " [ 10.         -10.          10.          10.           0.78994174]\n",
      " [ -9.72276176   3.24765089   3.67571324   5.19428449   8.56127634]\n",
      " [ -9.39031003  -7.27985537  -6.86792215   0.24831099  -2.31927692]\n",
      " [-10.          -2.84561694   0.53372077  -7.22127036  -3.63359028]]\n"
     ]
    }
   ],
   "source": [
    "for i in [dWax, dWaa]:\n",
    "    i=np.clip(i, -10, 10)\n",
    "    print(i)\n",
    "    "
   ]
  },
  {
   "cell_type": "code",
   "execution_count": null,
   "metadata": {},
   "outputs": [],
   "source": [
    "You will need to use the argument \"out = ...\".\n",
    "Using the \"out\" parameter allows you to update a variable \"in-place\".\n",
    "If you dont use \"out\" argument, the clipped variable is stored in the variable \"gradient\" but does not update the \n",
    "gradient variables dWax, dWaa, dWya, db, dby.\n",
    "\n",
    "np.clip(gradient, -maxValue, maxValue, out=gradient)"
   ]
  },
  {
   "cell_type": "code",
   "execution_count": null,
   "metadata": {},
   "outputs": [],
   "source": [
    "Out - parameter - numpy\n",
    "\n",
    "https://stackoverflow.com/questions/33398096/numpy-passing-input-array-as-out-argument-to-ufunc\n",
    "\n",
    "\n",
    "The out parameter of a numpy function is the array where the result is written. The main advantage of using out is avoiding the allocation of new memory where it is not necessary.\n",
    "\n",
    "Is it safe to use write the output of a function on the same array passed as input? There is no general answer, it depends on what the function is doing.\n",
    "\n",
    "\n"
   ]
  },
  {
   "cell_type": "code",
   "execution_count": null,
   "metadata": {},
   "outputs": [],
   "source": []
  }
 ],
 "metadata": {
  "kernelspec": {
   "display_name": "Python 3",
   "language": "python",
   "name": "python3"
  },
  "language_info": {
   "codemirror_mode": {
    "name": "ipython",
    "version": 3
   },
   "file_extension": ".py",
   "mimetype": "text/x-python",
   "name": "python",
   "nbconvert_exporter": "python",
   "pygments_lexer": "ipython3",
   "version": "3.7.4"
  }
 },
 "nbformat": 4,
 "nbformat_minor": 2
}
