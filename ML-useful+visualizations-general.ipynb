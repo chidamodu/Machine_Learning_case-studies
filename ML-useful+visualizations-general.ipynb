{
 "cells": [
  {
   "cell_type": "code",
   "execution_count": null,
   "metadata": {
    "collapsed": true
   },
   "outputs": [],
   "source": [
    "Examples:\n",
    "\n",
    "To visualize two features in a dataframe using seaborn\n",
    "import seaborn as sns\n",
    "sns.barplot('Sex', 'Survived', data=train_df, color=\"aquamarine\")\n",
    "plt.show()"
   ]
  },
  {
   "cell_type": "code",
   "execution_count": null,
   "metadata": {
    "collapsed": true
   },
   "outputs": [],
   "source": [
    "To visualize one feature with title using Plotly bar chart\n",
    "\n",
    "import plotly.plotly as py # visualization library\n",
    "from plotly.offline import init_notebook_mode, iplot # plotly offline mode\n",
    "init_notebook_mode(connected=True) \n",
    "import plotly.graph_objs as go # plotly graphical object\n",
    "\n",
    "data = aerial['Aircraft Series'].value_counts()\n",
    "print(data[:10])# just to print the top 10 records of the particular column\n",
    "data = [go.Bar(\n",
    "            x=data[:10].index,\n",
    "            y=data[:10].values,\n",
    "            hoverinfo = 'text',\n",
    "            marker = dict(color = 'rgba(177, 14, 22, 0.5)',\n",
    "                             line=dict(color='rgb(0,0,0)',width=1.5)),\n",
    "    )]\n",
    "\n",
    "layout = dict(\n",
    "    title = 'Aircraft Series',\n",
    ")\n",
    "fig = go.Figure(data=data, layout=layout)\n",
    "iplot(fig)"
   ]
  },
  {
   "cell_type": "code",
   "execution_count": null,
   "metadata": {
    "collapsed": true
   },
   "outputs": [],
   "source": [
    "To visualize using the world map\n",
    "\n",
    "# ATTACK\n",
    "aerial[\"color\"] = \"\"\n",
    "aerial.color[aerial.Country == \"USA\"] = \"rgb(0,116,217)\"\n",
    "aerial.color[aerial.Country == \"GREAT BRITAIN\"] = \"rgb(255,65,54)\"\n",
    "aerial.color[aerial.Country == \"NEW ZEALAND\"] = \"rgb(133,20,75)\"\n",
    "aerial.color[aerial.Country == \"SOUTH AFRICA\"] = \"rgb(255,133,27)\"\n",
    "\n",
    "data = [dict(\n",
    "    type='scattergeo',\n",
    "    lon = aerial['Takeoff Longitude'],\n",
    "    lat = aerial['Takeoff Latitude'],\n",
    "    hoverinfo = 'text',\n",
    "    text = \"Country: \" + aerial.Country + \" Takeoff Location: \"+aerial[\"Takeoff Location\"]+\" Takeoff Base: \" + aerial['Takeoff Base'],\n",
    "    mode = 'markers',\n",
    "    marker=dict(\n",
    "        sizemode = 'area',\n",
    "        sizeref = 1,\n",
    "        size= 10 ,\n",
    "        line = dict(width=1,color = \"white\"),\n",
    "        color = aerial[\"color\"],\n",
    "        opacity = 0.7),\n",
    ")]\n",
    "layout = dict(\n",
    "    title = 'Countries Take Off Bases ',\n",
    "    hovermode='closest',\n",
    "    geo = dict(showframe=False, showland=True, showcoastlines=True, showcountries=True,\n",
    "               countrywidth=1, projection=dict(type='Mercator'),\n",
    "              landcolor = 'rgb(217, 217, 217)',\n",
    "              subunitwidth=1,\n",
    "              showlakes = True,\n",
    "              lakecolor = 'rgb(255, 255, 255)',\n",
    "              countrycolor=\"rgb(5, 5, 5)\")\n",
    ")\n",
    "fig = go.Figure(data=data, layout=layout)\n",
    "iplot(fig)"
   ]
  },
  {
   "cell_type": "code",
   "execution_count": null,
   "metadata": {
    "collapsed": true
   },
   "outputs": [],
   "source": [
    "Seaborn countplot to visualize the number of records in each category in a column\n",
    "\n",
    "plt.figure(figsize=(22,10))\n",
    "sns.countplot(aerial['Theater of Operations'])\n",
    "plt.show()"
   ]
  },
  {
   "cell_type": "code",
   "execution_count": null,
   "metadata": {
    "collapsed": true
   },
   "outputs": [],
   "source": [
    "sns.kdeplot to visualize a column value filtered based on a condition. Also to use the condition to color code the plot \n",
    "\n",
    "\n",
    "plt.figure(figsize=(15,8))\n",
    "ax = sns.kdeplot(final_train[\"Fare\"][final_train.Survived == 1], color=\"darkturquoise\", shade=True)\n",
    "sns.kdeplot(final_train[\"Fare\"][final_train.Survived == 0], color=\"lightcoral\", shade=True)\n",
    "plt.legend(['Survived', 'Died'])\n",
    "plt.title('Density Plot of Fare for Surviving Population and Deceased Population')\n",
    "ax.set(xlabel='Fare')\n",
    "plt.xlim(-20,200)\n",
    "plt.show()"
   ]
  },
  {
   "cell_type": "code",
   "execution_count": null,
   "metadata": {
    "collapsed": true
   },
   "outputs": [],
   "source": [
    "To use histogram to visualize two columns in the same plot\n",
    "\n",
    "\n",
    "plt.figure(figsize=(15,8))\n",
    "ax = train_df[\"Age\"].hist(bins=15, density=True, stacked=True, color='teal', alpha=0.6)\n",
    "train_df[\"Age\"].plot(kind='density', color='teal')\n",
    "ax = train_data[\"Age\"].hist(bins=15, density=True, stacked=True, color='orange', alpha=0.5)\n",
    "train_data[\"Age\"].plot(kind='density', color='orange')\n",
    "ax.legend(['Raw Age', 'Adjusted Age'])\n",
    "ax.set(xlabel='Age')\n",
    "plt.xlim(-10,85)\n",
    "plt.show()"
   ]
  },
  {
   "cell_type": "code",
   "execution_count": null,
   "metadata": {
    "collapsed": true
   },
   "outputs": [],
   "source": [
    "Plot number of features VS. cross_validation scores. Note: the range of values plotted for y_axis\n",
    "\n",
    "plt.figure(figsize=(10,6))\n",
    "plt.xlabel(\"Number of features selected\")\n",
    "plt.ylabel(\"Cross validation score (nb of correct classifications)\")\n",
    "plt.plot(range(1, len(rfecv.grid_scores_) + 1), rfecv.grid_scores_)\n",
    "plt.show()"
   ]
  },
  {
   "cell_type": "code",
   "execution_count": null,
   "metadata": {
    "collapsed": true
   },
   "outputs": [],
   "source": [
    "To annotate the sns.heatmap\n",
    "\n",
    "Selected_features = ['Age', 'TravelAlone', 'Pclass_1', 'Pclass_2', 'Embarked_C', \n",
    "                     'Embarked_S', 'Sex_male', 'IsMinor']\n",
    "X = final_train[Selected_features]\n",
    "\n",
    "plt.subplots(figsize=(8, 5))\n",
    "sns.heatmap(X.corr(), annot=True, cmap=\"RdYlGn\")\n",
    "plt.show()\n"
   ]
  },
  {
   "cell_type": "code",
   "execution_count": null,
   "metadata": {
    "collapsed": true
   },
   "outputs": [],
   "source": [
    "To plot ROC based on threshold (Note: the selection of first threshold for which the sensibility > 0.95 and that is in turn \n",
    "                               used as index to filter tpr and fpr)\n",
    "\n",
    "You do not have to use the print statements that are mentioned here.\n",
    "\n",
    "\n",
    "idx = np.min(np.where(tpr > 0.95)) # index of the first threshold for which the sensibility > 0.95\n",
    "\n",
    "plt.figure()\n",
    "plt.plot(fpr, tpr, color='coral', label='ROC curve (area = %0.3f)' % auc(fpr, tpr))\n",
    "plt.plot([0, 1], [0, 1], 'k--')\n",
    "plt.plot([0,fpr[idx]], [tpr[idx],tpr[idx]], 'k--', color='blue')#to illustrate the values at the threshold selected\n",
    "plt.plot([fpr[idx],fpr[idx]], [0,tpr[idx]], 'k--', color='blue')#to illustrate the values at the threshold selected\n",
    "plt.xlim([0.0, 1.0])\n",
    "plt.ylim([0.0, 1.05])\n",
    "plt.xlabel('False Positive Rate (1 - specificity)', fontsize=14)\n",
    "plt.ylabel('True Positive Rate (recall)', fontsize=14)\n",
    "plt.title('Receiver operating characteristic (ROC) curve')\n",
    "plt.legend(loc=\"lower right\")\n",
    "plt.show()\n",
    "\n",
    "print(\"Using a threshold of %.3f \" % thr[idx] + \"guarantees a sensitivity of %.3f \" % tpr[idx] +  \n",
    "      \"and a specificity of %.3f\" % (1-fpr[idx]) + \n",
    "      \", i.e. a false positive rate of %.2f%%.\" % (np.array(fpr[idx])*100))"
   ]
  },
  {
   "cell_type": "code",
   "execution_count": null,
   "metadata": {
    "collapsed": true
   },
   "outputs": [],
   "source": []
  }
 ],
 "metadata": {
  "kernelspec": {
   "display_name": "Python [conda root]",
   "language": "python",
   "name": "conda-root-py"
  },
  "language_info": {
   "codemirror_mode": {
    "name": "ipython",
    "version": 3
   },
   "file_extension": ".py",
   "mimetype": "text/x-python",
   "name": "python",
   "nbconvert_exporter": "python",
   "pygments_lexer": "ipython3",
   "version": "3.5.6"
  }
 },
 "nbformat": 4,
 "nbformat_minor": 2
}
