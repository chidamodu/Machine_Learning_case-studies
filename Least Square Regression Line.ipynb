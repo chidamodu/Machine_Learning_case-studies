{
 "cells": [
  {
   "cell_type": "code",
   "execution_count": null,
   "metadata": {},
   "outputs": [],
   "source": [
    "x_value = 80\n",
    "N = 5\n",
    "X, Y = zip(*(map(float, input().split()) for _ in range(N)))\n",
    "\n",
    "def mean(V):\n",
    "    return sum(V)/len(V)\n",
    "\n",
    "def standardDeviation(V):\n",
    "    return (sum([(xi - mean(V))**2 for xi in V])/len(V))**0.5\n",
    "\n",
    "def pearsonCorrelation(X, Y):\n",
    "    covariance = sum([(X[i] - mean(X)) * (Y[i] - mean(Y)) for i in range(N)]) / N\n",
    "    return covariance/(standardDeviation(X)*standardDeviation(Y))\n",
    "\n",
    "def linearRegression(X, Y):\n",
    "    b = pearsonCorrelation(X, Y) * (standardDeviation(Y) / standardDeviation(X))\n",
    "    a = mean(Y) - b * mean(X)\n",
    "    return a, b\n",
    "\n",
    "a,b = linearRegression(X, Y)\n",
    "y_value = b*x_value + a\n",
    "print(\"%.3f\" % y_value)"
   ]
  },
  {
   "cell_type": "code",
   "execution_count": null,
   "metadata": {},
   "outputs": [],
   "source": [
    "solving the above problem using math formulas without any import\n",
    "\n",
    "\n",
    "# x = [95,85,80,70,60]\n",
    "# y = [85,95,70,65,70]\n",
    "x, y = [], []\n",
    "for _ in range(5):\n",
    "    i = input().split()\n",
    "    x.append(int(i[0]))\n",
    "    y.append(int(i[1]))\n",
    "n = len(x)\n",
    "x_sum = sum(x)\n",
    "x_sum_sqr = x_sum**2\n",
    "x_sqr_sum = sum([x_i**2 for x_i in x])\n",
    "y_sum = sum(y)\n",
    "sum_prod_xy = 0\n",
    "for x_i,y_i in zip(x,y):\n",
    "    sum_prod_xy += (x_i*y_i)\n",
    "b = (n*sum_prod_xy - x_sum*y_sum) / (n*x_sqr_sum - x_sum_sqr)\n",
    "y_mean = y_sum/n\n",
    "x_mean = x_sum/n\n",
    "a = y_mean - b*x_mean\n",
    "\n",
    "# to make prediction\n",
    "x_test = 80\n",
    "y_test = a + b * x_test\n",
    "print(\"%.3f\" %y_test)   # 78.288"
   ]
  }
 ],
 "metadata": {
  "kernelspec": {
   "display_name": "Python 3",
   "language": "python",
   "name": "python3"
  },
  "language_info": {
   "codemirror_mode": {
    "name": "ipython",
    "version": 3
   },
   "file_extension": ".py",
   "mimetype": "text/x-python",
   "name": "python",
   "nbconvert_exporter": "python",
   "pygments_lexer": "ipython3",
   "version": "3.7.4"
  }
 },
 "nbformat": 4,
 "nbformat_minor": 2
}
