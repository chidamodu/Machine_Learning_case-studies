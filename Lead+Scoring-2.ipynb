{
 "cells": [
  {
   "cell_type": "code",
   "execution_count": 341,
   "metadata": {
    "collapsed": true
   },
   "outputs": [],
   "source": [
    "import os\n",
    "os.getcwd()"
   ]
  },
  {
   "cell_type": "code",
   "execution_count": 342,
   "metadata": {
    "collapsed": true
   },
   "outputs": [],
   "source": [
    "import pandas as pd\n",
    "df=pd.read_csv('train_set_airbnb.csv')"
   ]
  },
  {
   "cell_type": "code",
   "execution_count": 343,
   "metadata": {
    "scrolled": false
   },
   "outputs": [
    {
     "data": {
      "text/html": [
       "<div>\n",
       "<style>\n",
       "    .dataframe thead tr:only-child th {\n",
       "        text-align: right;\n",
       "    }\n",
       "\n",
       "    .dataframe thead th {\n",
       "        text-align: left;\n",
       "    }\n",
       "\n",
       "    .dataframe tbody tr th {\n",
       "        vertical-align: top;\n",
       "    }\n",
       "</style>\n",
       "<table border=\"1\" class=\"dataframe\">\n",
       "  <thead>\n",
       "    <tr style=\"text-align: right;\">\n",
       "      <th></th>\n",
       "      <th>id</th>\n",
       "      <th>date_account_created</th>\n",
       "      <th>timestamp_first_active</th>\n",
       "      <th>date_first_booking</th>\n",
       "      <th>gender</th>\n",
       "      <th>age</th>\n",
       "      <th>signup_method</th>\n",
       "      <th>signup_flow</th>\n",
       "      <th>language</th>\n",
       "      <th>affiliate_channel</th>\n",
       "      <th>affiliate_provider</th>\n",
       "      <th>first_affiliate_tracked</th>\n",
       "      <th>signup_app</th>\n",
       "      <th>first_device_type</th>\n",
       "      <th>first_browser</th>\n",
       "      <th>country_destination</th>\n",
       "    </tr>\n",
       "  </thead>\n",
       "  <tbody>\n",
       "    <tr>\n",
       "      <th>0</th>\n",
       "      <td>gxn3p5htnn</td>\n",
       "      <td>6/28/10</td>\n",
       "      <td>2.010000e+13</td>\n",
       "      <td>NaN</td>\n",
       "      <td>-unknown-</td>\n",
       "      <td>NaN</td>\n",
       "      <td>facebook</td>\n",
       "      <td>0</td>\n",
       "      <td>en</td>\n",
       "      <td>direct</td>\n",
       "      <td>direct</td>\n",
       "      <td>untracked</td>\n",
       "      <td>Web</td>\n",
       "      <td>Mac Desktop</td>\n",
       "      <td>Chrome</td>\n",
       "      <td>NDF</td>\n",
       "    </tr>\n",
       "    <tr>\n",
       "      <th>1</th>\n",
       "      <td>820tgsjxq7</td>\n",
       "      <td>5/25/11</td>\n",
       "      <td>2.010000e+13</td>\n",
       "      <td>NaN</td>\n",
       "      <td>MALE</td>\n",
       "      <td>38.0</td>\n",
       "      <td>facebook</td>\n",
       "      <td>0</td>\n",
       "      <td>en</td>\n",
       "      <td>seo</td>\n",
       "      <td>google</td>\n",
       "      <td>untracked</td>\n",
       "      <td>Web</td>\n",
       "      <td>Mac Desktop</td>\n",
       "      <td>Chrome</td>\n",
       "      <td>NDF</td>\n",
       "    </tr>\n",
       "    <tr>\n",
       "      <th>2</th>\n",
       "      <td>4ft3gnwmtx</td>\n",
       "      <td>9/28/10</td>\n",
       "      <td>2.010000e+13</td>\n",
       "      <td>8/2/10</td>\n",
       "      <td>FEMALE</td>\n",
       "      <td>56.0</td>\n",
       "      <td>basic</td>\n",
       "      <td>3</td>\n",
       "      <td>en</td>\n",
       "      <td>direct</td>\n",
       "      <td>direct</td>\n",
       "      <td>untracked</td>\n",
       "      <td>Web</td>\n",
       "      <td>Windows Desktop</td>\n",
       "      <td>IE</td>\n",
       "      <td>US</td>\n",
       "    </tr>\n",
       "    <tr>\n",
       "      <th>3</th>\n",
       "      <td>bjjt8pjhuk</td>\n",
       "      <td>12/5/11</td>\n",
       "      <td>2.010000e+13</td>\n",
       "      <td>9/8/12</td>\n",
       "      <td>FEMALE</td>\n",
       "      <td>42.0</td>\n",
       "      <td>facebook</td>\n",
       "      <td>0</td>\n",
       "      <td>en</td>\n",
       "      <td>direct</td>\n",
       "      <td>direct</td>\n",
       "      <td>untracked</td>\n",
       "      <td>Web</td>\n",
       "      <td>Mac Desktop</td>\n",
       "      <td>Firefox</td>\n",
       "      <td>other</td>\n",
       "    </tr>\n",
       "    <tr>\n",
       "      <th>4</th>\n",
       "      <td>87mebub9p4</td>\n",
       "      <td>9/14/10</td>\n",
       "      <td>2.010000e+13</td>\n",
       "      <td>2/18/10</td>\n",
       "      <td>-unknown-</td>\n",
       "      <td>41.0</td>\n",
       "      <td>basic</td>\n",
       "      <td>0</td>\n",
       "      <td>en</td>\n",
       "      <td>direct</td>\n",
       "      <td>direct</td>\n",
       "      <td>untracked</td>\n",
       "      <td>Web</td>\n",
       "      <td>Mac Desktop</td>\n",
       "      <td>Chrome</td>\n",
       "      <td>US</td>\n",
       "    </tr>\n",
       "  </tbody>\n",
       "</table>\n",
       "</div>"
      ],
      "text/plain": [
       "           id date_account_created  timestamp_first_active date_first_booking  \\\n",
       "0  gxn3p5htnn              6/28/10            2.010000e+13                NaN   \n",
       "1  820tgsjxq7              5/25/11            2.010000e+13                NaN   \n",
       "2  4ft3gnwmtx              9/28/10            2.010000e+13             8/2/10   \n",
       "3  bjjt8pjhuk              12/5/11            2.010000e+13             9/8/12   \n",
       "4  87mebub9p4              9/14/10            2.010000e+13            2/18/10   \n",
       "\n",
       "      gender   age signup_method  signup_flow language affiliate_channel  \\\n",
       "0  -unknown-   NaN      facebook            0       en            direct   \n",
       "1       MALE  38.0      facebook            0       en               seo   \n",
       "2     FEMALE  56.0         basic            3       en            direct   \n",
       "3     FEMALE  42.0      facebook            0       en            direct   \n",
       "4  -unknown-  41.0         basic            0       en            direct   \n",
       "\n",
       "  affiliate_provider first_affiliate_tracked signup_app first_device_type  \\\n",
       "0             direct               untracked        Web       Mac Desktop   \n",
       "1             google               untracked        Web       Mac Desktop   \n",
       "2             direct               untracked        Web   Windows Desktop   \n",
       "3             direct               untracked        Web       Mac Desktop   \n",
       "4             direct               untracked        Web       Mac Desktop   \n",
       "\n",
       "  first_browser country_destination  \n",
       "0        Chrome                 NDF  \n",
       "1        Chrome                 NDF  \n",
       "2            IE                  US  \n",
       "3       Firefox               other  \n",
       "4        Chrome                  US  "
      ]
     },
     "execution_count": 343,
     "metadata": {},
     "output_type": "execute_result"
    }
   ],
   "source": [
    "df.head()"
   ]
  },
  {
   "cell_type": "code",
   "execution_count": 344,
   "metadata": {
    "scrolled": true
   },
   "outputs": [
    {
     "data": {
      "text/plain": [
       "213451"
      ]
     },
     "execution_count": 344,
     "metadata": {},
     "output_type": "execute_result"
    }
   ],
   "source": [
    "len(df)"
   ]
  },
  {
   "cell_type": "code",
   "execution_count": 345,
   "metadata": {},
   "outputs": [],
   "source": [
    "#Since including age < 16 and > 97 does not make sense so let us delete the records with such values\n",
    "\n",
    "\n",
    "df = df.drop(df[(df['age'] < 16) | (df['age'] > 95)].index)"
   ]
  },
  {
   "cell_type": "code",
   "execution_count": 346,
   "metadata": {},
   "outputs": [
    {
     "data": {
      "text/plain": [
       "210948"
      ]
     },
     "execution_count": 346,
     "metadata": {},
     "output_type": "execute_result"
    }
   ],
   "source": [
    "len(df)"
   ]
  },
  {
   "cell_type": "code",
   "execution_count": 347,
   "metadata": {},
   "outputs": [
    {
     "data": {
      "text/plain": [
       "Index(['date_first_booking', 'age', 'first_affiliate_tracked'], dtype='object')"
      ]
     },
     "execution_count": 347,
     "metadata": {},
     "output_type": "execute_result"
    }
   ],
   "source": [
    "df.columns[df.isnull().any()]"
   ]
  },
  {
   "cell_type": "code",
   "execution_count": 348,
   "metadata": {},
   "outputs": [],
   "source": [
    "#The idea is to find the difference between the two dates: date_account_created and date_first_booking so will understand\n",
    "#how long customers took to book a property\n",
    "\n",
    "import datetime\n",
    "df['date_diff']=abs(pd.to_datetime(df['date_account_created'], format='%m/%d/%y') - pd.to_datetime(df['date_first_booking'],format='%m/%d/%y')) "
   ]
  },
  {
   "cell_type": "code",
   "execution_count": 349,
   "metadata": {
    "collapsed": true
   },
   "outputs": [],
   "source": [
    "df['date_diff']=df['date_diff'].dt.days"
   ]
  },
  {
   "cell_type": "code",
   "execution_count": 350,
   "metadata": {},
   "outputs": [
    {
     "data": {
      "text/plain": [
       "365.0"
      ]
     },
     "execution_count": 350,
     "metadata": {},
     "output_type": "execute_result"
    }
   ],
   "source": [
    "df['date_diff'].max()"
   ]
  },
  {
   "cell_type": "code",
   "execution_count": 351,
   "metadata": {
    "collapsed": true
   },
   "outputs": [],
   "source": [
    "df['date_diff'].fillna(-(df['date_diff'].max()), inplace=True)"
   ]
  },
  {
   "cell_type": "code",
   "execution_count": 352,
   "metadata": {},
   "outputs": [
    {
     "data": {
      "text/plain": [
       "False"
      ]
     },
     "execution_count": 352,
     "metadata": {},
     "output_type": "execute_result"
    }
   ],
   "source": [
    "df['date_diff'].isnull().any()"
   ]
  },
  {
   "cell_type": "code",
   "execution_count": 353,
   "metadata": {
    "collapsed": true
   },
   "outputs": [],
   "source": [
    "# import numpy as np\n",
    "# tfa = np.vstack(df.timestamp_first_active.astype(str).apply(lambda x: list(map(int, [x[:4],x[4:6],x[6:8],x[8:10],x[10:12],x[12:14]]))).values)\n",
    "# df['tfa_year'] = tfa[:,0]\n",
    "# df['tfa_month'] = tfa[:,1]\n",
    "# df['tfa_day'] = tfa[:,2]\n",
    "# df_all = df_all.drop(['timestamp_first_active'], axis=1)"
   ]
  },
  {
   "cell_type": "code",
   "execution_count": 355,
   "metadata": {},
   "outputs": [
    {
     "data": {
      "text/plain": [
       "34.0"
      ]
     },
     "execution_count": 355,
     "metadata": {},
     "output_type": "execute_result"
    }
   ],
   "source": [
    "df['age'].median()"
   ]
  },
  {
   "cell_type": "code",
   "execution_count": 356,
   "metadata": {},
   "outputs": [
    {
     "data": {
      "text/plain": [
       "36.514069844987716"
      ]
     },
     "execution_count": 356,
     "metadata": {},
     "output_type": "execute_result"
    }
   ],
   "source": [
    "df['age'].mean()"
   ]
  },
  {
   "cell_type": "code",
   "execution_count": 357,
   "metadata": {
    "scrolled": false
   },
   "outputs": [
    {
     "data": {
      "text/plain": [
       "11.570836687369358"
      ]
     },
     "execution_count": 357,
     "metadata": {},
     "output_type": "execute_result"
    }
   ],
   "source": [
    "df['age'].std()"
   ]
  },
  {
   "cell_type": "code",
   "execution_count": 358,
   "metadata": {},
   "outputs": [],
   "source": [
    "#Let's repalce the null values in df['age'] with numbers ranging between one standard deviation from the mean, i.e., \n",
    "#from 25 to 47\n",
    "\n",
    "import random\n",
    "df['age'].fillna(np.random.choice(range(25, 47)), inplace=True)"
   ]
  },
  {
   "cell_type": "code",
   "execution_count": 360,
   "metadata": {
    "scrolled": true
   },
   "outputs": [
    {
     "data": {
      "text/plain": [
       "{'-unknown-': 0.4501630733640518,\n",
       " 'FEMALE': 0.29402032728444927,\n",
       " 'MALE': 0.2544939985209625,\n",
       " 'OTHER': 0.0013226008305364356}"
      ]
     },
     "execution_count": 360,
     "metadata": {},
     "output_type": "execute_result"
    }
   ],
   "source": [
    "dict(df['gender'].value_counts()/len(df))"
   ]
  },
  {
   "cell_type": "code",
   "execution_count": 361,
   "metadata": {
    "scrolled": true
   },
   "outputs": [
    {
     "data": {
      "text/plain": [
       "-unknown-    94961\n",
       "FEMALE       62023\n",
       "MALE         53685\n",
       "OTHER          279\n",
       "Name: gender, dtype: int64"
      ]
     },
     "execution_count": 361,
     "metadata": {},
     "output_type": "execute_result"
    }
   ],
   "source": [
    "df['gender'].value_counts()"
   ]
  },
  {
   "cell_type": "code",
   "execution_count": 362,
   "metadata": {
    "scrolled": true
   },
   "outputs": [
    {
     "data": {
      "text/plain": [
       "0    0.000000\n",
       "1    0.254494\n",
       "2    0.294020\n",
       "3    0.294020\n",
       "4    0.000000\n",
       "Name: gender, dtype: float64"
      ]
     },
     "execution_count": 362,
     "metadata": {},
     "output_type": "execute_result"
    }
   ],
   "source": [
    "def convert_gender(d, x, y, col_name):\n",
    "    import pandas as pd\n",
    "    \n",
    "    for ele in range(len(x)):\n",
    "        if (x[ele] == 'FEMALE') | (x[ele] == 'MALE') | (x[ele] == 'OTHER'):\n",
    "            if x[ele] in y:\n",
    "                x[ele]=y[x[ele]]\n",
    "        \n",
    "        elif x[ele] =='-unknown-':\n",
    "            x[ele]=0\n",
    "        \n",
    "    d.drop(col_name, axis=1)\n",
    "    d[col_name]=pd.Series(x, index=d.index)\n",
    "    return d[col_name].head()\n",
    "\n",
    "convert_gender(df, df['gender'].tolist(), dict(df['gender'].value_counts()/len(df)), 'gender')\n"
   ]
  },
  {
   "cell_type": "code",
   "execution_count": 363,
   "metadata": {},
   "outputs": [
    {
     "data": {
      "text/plain": [
       "0.000000    94961\n",
       "0.294020    62023\n",
       "0.254494    53685\n",
       "0.001323      279\n",
       "Name: gender, dtype: int64"
      ]
     },
     "execution_count": 363,
     "metadata": {},
     "output_type": "execute_result"
    }
   ],
   "source": [
    "df['gender'].value_counts()"
   ]
  },
  {
   "cell_type": "code",
   "execution_count": 364,
   "metadata": {
    "scrolled": true
   },
   "outputs": [
    {
     "data": {
      "text/plain": [
       "0    0\n",
       "1    0\n",
       "2   -1\n",
       "3    1\n",
       "4   -1\n",
       "Name: country_destination, dtype: int64"
      ]
     },
     "execution_count": 364,
     "metadata": {},
     "output_type": "execute_result"
    }
   ],
   "source": [
    "#To convert the categorical values in the column: country_destination\n",
    "\n",
    "def convert_country(d, x, col_name):\n",
    "    import pandas as pd\n",
    "    \n",
    "    for ele in range(len(x)):\n",
    "        if x[ele]=='NDF':\n",
    "            x[ele]=0\n",
    "        \n",
    "        elif x[ele]=='US':\n",
    "            x[ele]=-1\n",
    "        \n",
    "        else:\n",
    "            x[ele]=1\n",
    "          \n",
    "    d.drop(col_name, axis=1)\n",
    "    d[col_name]=pd.Series(x, index=d.index)\n",
    "    return d[col_name].head()      \n",
    "            \n",
    "            \n",
    "convert_country(df, df['country_destination'].tolist(), 'country_destination')            \n",
    "    "
   ]
  },
  {
   "cell_type": "code",
   "execution_count": 365,
   "metadata": {},
   "outputs": [
    {
     "data": {
      "text/plain": [
       "False"
      ]
     },
     "execution_count": 365,
     "metadata": {},
     "output_type": "execute_result"
    }
   ],
   "source": [
    "df['country_destination'].isnull().any()"
   ]
  },
  {
   "cell_type": "code",
   "execution_count": 366,
   "metadata": {},
   "outputs": [
    {
     "data": {
      "text/plain": [
       "0    0.299206\n",
       "1    0.299206\n",
       "2    0.098493\n",
       "3    0.157499\n",
       "4    0.299206\n",
       "Name: first_browser, dtype: float64"
      ]
     },
     "execution_count": 366,
     "metadata": {},
     "output_type": "execute_result"
    }
   ],
   "source": [
    "#To convert columns: 'signup_method', 'signup_flow','language', 'affiliate_channel', 'affiliate_provider',\n",
    "#'first_affiliate_tracked', 'signup_app', 'first_device_type','first_browser'\n",
    "\n",
    "def convert_categorical(d, x, y, col_name):\n",
    "    import pandas as pd\n",
    "    for ele in range(len(x)):\n",
    "        if x[ele] in y:\n",
    "            x[ele]=y[x[ele]]\n",
    "         \n",
    "    d.drop(col_name, axis=1)\n",
    "    d[col_name]=pd.Series(x, index=d.index)\n",
    "    return d[col_name].head()\n",
    "\n",
    "convert_categorical(df, df['signup_method'].tolist(), dict(df['signup_method'].value_counts()/len(df)), 'signup_method')\n",
    "convert_categorical(df, df['signup_flow'].tolist(), dict(df['signup_flow'].value_counts()/len(df)), 'signup_flow')\n",
    "convert_categorical(df, df['language'].tolist(), dict(df['language'].value_counts()/len(df)), 'language')\n",
    "convert_categorical(df, df['affiliate_channel'].tolist(), dict(df['affiliate_channel'].value_counts()/len(df)), 'affiliate_channel')\n",
    "convert_categorical(df, df['affiliate_provider'].tolist(), dict(df['affiliate_provider'].value_counts()/len(df)), 'affiliate_provider')\n",
    "convert_categorical(df, df['first_affiliate_tracked'].tolist(), dict(df['first_affiliate_tracked'].value_counts()/len(df)), 'first_affiliate_tracked')\n",
    "convert_categorical(df, df['signup_app'].tolist(), dict(df['signup_app'].value_counts()/len(df)), 'signup_app')\n",
    "convert_categorical(df, df['first_device_type'].tolist(), dict(df['first_device_type'].value_counts()/len(df)), 'first_device_type')\n",
    "convert_categorical(df, df['first_browser'].tolist(), dict(df['first_browser'].value_counts()/len(df)), 'first_browser')\n",
    "\n",
    "\n",
    "\n",
    "\n",
    "\n",
    "\n",
    "\n",
    "\n",
    "\n",
    "\n",
    "\n",
    "\n",
    "\n",
    "\n",
    "\n",
    "\n",
    "\n",
    "\n"
   ]
  },
  {
   "cell_type": "code",
   "execution_count": null,
   "metadata": {
    "collapsed": true
   },
   "outputs": [],
   "source": [
    "#looks like df['first_affiliate_tracked'] has null values so avoiding it for now"
   ]
  },
  {
   "cell_type": "code",
   "execution_count": 367,
   "metadata": {},
   "outputs": [
    {
     "data": {
      "text/plain": [
       "False"
      ]
     },
     "execution_count": 367,
     "metadata": {},
     "output_type": "execute_result"
    }
   ],
   "source": [
    "df['affiliate_channel'].isnull().any()"
   ]
  },
  {
   "cell_type": "code",
   "execution_count": 368,
   "metadata": {},
   "outputs": [
    {
     "data": {
      "text/plain": [
       "Index(['date_first_booking', 'first_affiliate_tracked'], dtype='object')"
      ]
     },
     "execution_count": 368,
     "metadata": {},
     "output_type": "execute_result"
    }
   ],
   "source": [
    "df.columns[df.isnull().any()]"
   ]
  },
  {
   "cell_type": "code",
   "execution_count": 369,
   "metadata": {},
   "outputs": [
    {
     "data": {
      "text/plain": [
       "Index(['id', 'date_account_created', 'timestamp_first_active',\n",
       "       'date_first_booking', 'gender', 'age', 'signup_method', 'signup_flow',\n",
       "       'language', 'affiliate_channel', 'affiliate_provider',\n",
       "       'first_affiliate_tracked', 'signup_app', 'first_device_type',\n",
       "       'first_browser', 'country_destination', 'date_diff'],\n",
       "      dtype='object')"
      ]
     },
     "execution_count": 369,
     "metadata": {},
     "output_type": "execute_result"
    }
   ],
   "source": [
    "df.columns"
   ]
  },
  {
   "cell_type": "code",
   "execution_count": 382,
   "metadata": {
    "collapsed": true
   },
   "outputs": [],
   "source": [
    "cols = [col for col in df.columns if col in ['id','gender', 'age', 'signup_method','signup_flow','language', 'affiliate_channel', 'affiliate_provider', 'signup_app', 'first_device_type','first_browser','date_diff', 'country_destination']]\n",
    "df1 = df[cols]"
   ]
  },
  {
   "cell_type": "code",
   "execution_count": 383,
   "metadata": {},
   "outputs": [],
   "source": [
    "X_id=df1['id'].values"
   ]
  },
  {
   "cell_type": "code",
   "execution_count": 384,
   "metadata": {},
   "outputs": [],
   "source": [
    "df1=df1.drop('id', axis=1)"
   ]
  },
  {
   "cell_type": "code",
   "execution_count": 385,
   "metadata": {},
   "outputs": [
    {
     "data": {
      "text/html": [
       "<div>\n",
       "<style>\n",
       "    .dataframe thead tr:only-child th {\n",
       "        text-align: right;\n",
       "    }\n",
       "\n",
       "    .dataframe thead th {\n",
       "        text-align: left;\n",
       "    }\n",
       "\n",
       "    .dataframe tbody tr th {\n",
       "        vertical-align: top;\n",
       "    }\n",
       "</style>\n",
       "<table border=\"1\" class=\"dataframe\">\n",
       "  <thead>\n",
       "    <tr style=\"text-align: right;\">\n",
       "      <th></th>\n",
       "      <th>gender</th>\n",
       "      <th>age</th>\n",
       "      <th>signup_method</th>\n",
       "      <th>signup_flow</th>\n",
       "      <th>language</th>\n",
       "      <th>affiliate_channel</th>\n",
       "      <th>affiliate_provider</th>\n",
       "      <th>signup_app</th>\n",
       "      <th>first_device_type</th>\n",
       "      <th>first_browser</th>\n",
       "      <th>country_destination</th>\n",
       "      <th>date_diff</th>\n",
       "    </tr>\n",
       "  </thead>\n",
       "  <tbody>\n",
       "    <tr>\n",
       "      <th>0</th>\n",
       "      <td>0.000000</td>\n",
       "      <td>35.0</td>\n",
       "      <td>0.281524</td>\n",
       "      <td>0.771209</td>\n",
       "      <td>0.966428</td>\n",
       "      <td>0.645415</td>\n",
       "      <td>0.644012</td>\n",
       "      <td>0.855216</td>\n",
       "      <td>0.419246</td>\n",
       "      <td>0.299206</td>\n",
       "      <td>0</td>\n",
       "      <td>-365.0</td>\n",
       "    </tr>\n",
       "    <tr>\n",
       "      <th>1</th>\n",
       "      <td>0.254494</td>\n",
       "      <td>38.0</td>\n",
       "      <td>0.281524</td>\n",
       "      <td>0.771209</td>\n",
       "      <td>0.966428</td>\n",
       "      <td>0.040541</td>\n",
       "      <td>0.241922</td>\n",
       "      <td>0.855216</td>\n",
       "      <td>0.419246</td>\n",
       "      <td>0.299206</td>\n",
       "      <td>0</td>\n",
       "      <td>-365.0</td>\n",
       "    </tr>\n",
       "    <tr>\n",
       "      <th>2</th>\n",
       "      <td>0.294020</td>\n",
       "      <td>56.0</td>\n",
       "      <td>0.715892</td>\n",
       "      <td>0.041361</td>\n",
       "      <td>0.966428</td>\n",
       "      <td>0.645415</td>\n",
       "      <td>0.644012</td>\n",
       "      <td>0.855216</td>\n",
       "      <td>0.340510</td>\n",
       "      <td>0.098493</td>\n",
       "      <td>-1</td>\n",
       "      <td>57.0</td>\n",
       "    </tr>\n",
       "    <tr>\n",
       "      <th>3</th>\n",
       "      <td>0.294020</td>\n",
       "      <td>42.0</td>\n",
       "      <td>0.281524</td>\n",
       "      <td>0.771209</td>\n",
       "      <td>0.966428</td>\n",
       "      <td>0.645415</td>\n",
       "      <td>0.644012</td>\n",
       "      <td>0.855216</td>\n",
       "      <td>0.419246</td>\n",
       "      <td>0.157499</td>\n",
       "      <td>1</td>\n",
       "      <td>278.0</td>\n",
       "    </tr>\n",
       "    <tr>\n",
       "      <th>4</th>\n",
       "      <td>0.000000</td>\n",
       "      <td>41.0</td>\n",
       "      <td>0.715892</td>\n",
       "      <td>0.771209</td>\n",
       "      <td>0.966428</td>\n",
       "      <td>0.645415</td>\n",
       "      <td>0.644012</td>\n",
       "      <td>0.855216</td>\n",
       "      <td>0.419246</td>\n",
       "      <td>0.299206</td>\n",
       "      <td>-1</td>\n",
       "      <td>208.0</td>\n",
       "    </tr>\n",
       "  </tbody>\n",
       "</table>\n",
       "</div>"
      ],
      "text/plain": [
       "     gender   age  signup_method  signup_flow  language  affiliate_channel  \\\n",
       "0  0.000000  35.0       0.281524     0.771209  0.966428           0.645415   \n",
       "1  0.254494  38.0       0.281524     0.771209  0.966428           0.040541   \n",
       "2  0.294020  56.0       0.715892     0.041361  0.966428           0.645415   \n",
       "3  0.294020  42.0       0.281524     0.771209  0.966428           0.645415   \n",
       "4  0.000000  41.0       0.715892     0.771209  0.966428           0.645415   \n",
       "\n",
       "   affiliate_provider  signup_app  first_device_type  first_browser  \\\n",
       "0            0.644012    0.855216           0.419246       0.299206   \n",
       "1            0.241922    0.855216           0.419246       0.299206   \n",
       "2            0.644012    0.855216           0.340510       0.098493   \n",
       "3            0.644012    0.855216           0.419246       0.157499   \n",
       "4            0.644012    0.855216           0.419246       0.299206   \n",
       "\n",
       "   country_destination  date_diff  \n",
       "0                    0     -365.0  \n",
       "1                    0     -365.0  \n",
       "2                   -1       57.0  \n",
       "3                    1      278.0  \n",
       "4                   -1      208.0  "
      ]
     },
     "execution_count": 385,
     "metadata": {},
     "output_type": "execute_result"
    }
   ],
   "source": [
    "df1.head()"
   ]
  },
  {
   "cell_type": "code",
   "execution_count": 387,
   "metadata": {
    "collapsed": true
   },
   "outputs": [],
   "source": [
    "y=df1['country_destination'].values"
   ]
  },
  {
   "cell_type": "code",
   "execution_count": 403,
   "metadata": {},
   "outputs": [
    {
     "data": {
      "text/plain": [
       "210948"
      ]
     },
     "execution_count": 403,
     "metadata": {},
     "output_type": "execute_result"
    }
   ],
   "source": [
    "len(np.vstack(y))"
   ]
  },
  {
   "cell_type": "code",
   "execution_count": 388,
   "metadata": {
    "collapsed": true
   },
   "outputs": [],
   "source": [
    "df1=df1.drop('country_destination', axis=1)"
   ]
  },
  {
   "cell_type": "code",
   "execution_count": 399,
   "metadata": {
    "collapsed": true
   },
   "outputs": [],
   "source": [
    "X=np.vstack(df1.values)"
   ]
  },
  {
   "cell_type": "code",
   "execution_count": 408,
   "metadata": {},
   "outputs": [
    {
     "data": {
      "text/plain": [
       "210948"
      ]
     },
     "execution_count": 408,
     "metadata": {},
     "output_type": "execute_result"
    }
   ],
   "source": [
    "len(X)"
   ]
  },
  {
   "cell_type": "code",
   "execution_count": 409,
   "metadata": {},
   "outputs": [],
   "source": [
    "# from sklearn.model_selection import train_test_split\n",
    "# X_train, X_valid, y_train, y_valid = train_test_split(X, y, test_size=0.20, random_state=42)\n",
    "# #keep X_valid and y_valid separately"
   ]
  },
  {
   "cell_type": "code",
   "execution_count": 410,
   "metadata": {
    "collapsed": true
   },
   "outputs": [],
   "source": [
    "from sklearn.model_selection import StratifiedKFold\n",
    "folds = 10\n",
    "skf = StratifiedKFold(n_splits=folds, shuffle = True, random_state = 999)\n",
    "for train_index, test_index in skf.split(X, y):\n",
    "    X_train, X_test = X[train_index], X[test_index]\n",
    "    y_train, y_test = y[train_index], y[test_index]"
   ]
  },
  {
   "cell_type": "code",
   "execution_count": null,
   "metadata": {},
   "outputs": [],
   "source": []
  },
  {
   "cell_type": "code",
   "execution_count": 405,
   "metadata": {
    "collapsed": true
   },
   "outputs": [],
   "source": [
    "#Using LogisticRegression Classifier with default values\n",
    "from sklearn.linear_model import LogisticRegression\n",
    "clf = LogisticRegression(random_state=0, solver='lbfgs', multi_class='multinomial')"
   ]
  },
  {
   "cell_type": "code",
   "execution_count": 412,
   "metadata": {},
   "outputs": [
    {
     "name": "stdout",
     "output_type": "stream",
     "text": [
      "[0.87612577 0.87612577 0.87612577 0.87611925 0.87616539 0.87616539\n",
      " 0.87616539 0.87616539 0.87615887 0.87615887]\n"
     ]
    }
   ],
   "source": [
    "from sklearn.model_selection import cross_val_score\n",
    "scores = cross_val_score(clf, X_train, y_train, cv=10, scoring='accuracy')\n",
    "print(scores)"
   ]
  },
  {
   "cell_type": "code",
   "execution_count": 416,
   "metadata": {
    "collapsed": true
   },
   "outputs": [],
   "source": [
    "#\n",
    "# clf1 = LogisticRegression(penalty='l1', C=0.001, random_state=0, solver= 'saga', multi_class='multinomial')\n",
    "# clf2 = LogisticRegression(penalty='l1', C=0.01, random_state=0, solver='lbfgs', multi_class='multinomial')\n",
    "# clf3 = LogisticRegression(penalty='l1', C=10, random_state=0, solver='lbfgs', multi_class='multinomial')\n",
    "# clf4 = LogisticRegression(penalty='l1', C=100, random_state=0, solver='lbfgs', multi_class='multinomial')"
   ]
  },
  {
   "cell_type": "code",
   "execution_count": 417,
   "metadata": {
    "collapsed": true
   },
   "outputs": [],
   "source": [
    "clf5 = LogisticRegression(penalty='l2', C=0.001, random_state=0, solver='lbfgs', multi_class='multinomial')\n",
    "clf6 = LogisticRegression(penalty='l2', C=0.01, random_state=0, solver='lbfgs', multi_class='multinomial')\n",
    "clf7 = LogisticRegression(penalty='l2', C=10, random_state=0, solver='lbfgs', multi_class='multinomial')\n",
    "clf8 = LogisticRegression(penalty='l2', C=100, random_state=0, solver='lbfgs', multi_class='multinomial')"
   ]
  },
  {
   "cell_type": "code",
   "execution_count": 419,
   "metadata": {
    "scrolled": false
   },
   "outputs": [
    {
     "name": "stdout",
     "output_type": "stream",
     "text": [
      "[0.87612577 0.87612577 0.87612577 0.87611925 0.87616539 0.87616539\n",
      " 0.87616539 0.87616539 0.87615887 0.87615887]\n"
     ]
    }
   ],
   "source": [
    "#clf5\n",
    "scores = cross_val_score(clf5, X_train, y_train, cv=10, scoring='accuracy')\n",
    "print(scores)"
   ]
  },
  {
   "cell_type": "code",
   "execution_count": 420,
   "metadata": {},
   "outputs": [
    {
     "name": "stdout",
     "output_type": "stream",
     "text": [
      "[0.87612577 0.87612577 0.87612577 0.87611925 0.87616539 0.87616539\n",
      " 0.87616539 0.87616539 0.87615887 0.87615887]\n"
     ]
    }
   ],
   "source": [
    "#clf6\n",
    "scores = cross_val_score(clf6, X_train, y_train, cv=10, scoring='accuracy')\n",
    "print(scores)"
   ]
  },
  {
   "cell_type": "code",
   "execution_count": 421,
   "metadata": {},
   "outputs": [
    {
     "name": "stdout",
     "output_type": "stream",
     "text": [
      "[0.87612577 0.87612577 0.87612577 0.87611925 0.87616539 0.87616539\n",
      " 0.87616539 0.87616539 0.87615887 0.87615887]\n"
     ]
    }
   ],
   "source": [
    "#clf7\n",
    "scores = cross_val_score(clf7, X_train, y_train, cv=10, scoring='accuracy')\n",
    "print(scores)"
   ]
  },
  {
   "cell_type": "code",
   "execution_count": 424,
   "metadata": {},
   "outputs": [
    {
     "data": {
      "text/plain": [
       "array([-1, -1,  0, ...,  0,  0,  0])"
      ]
     },
     "execution_count": 424,
     "metadata": {},
     "output_type": "execute_result"
    }
   ],
   "source": [
    "from sklearn.model_selection import cross_val_predict\n",
    "cross_val_predict(clf, X_test, y_test, cv=10)"
   ]
  },
  {
   "cell_type": "code",
   "execution_count": 425,
   "metadata": {
    "collapsed": true
   },
   "outputs": [],
   "source": [
    "base_model=clf.fit(X_train, y_train)"
   ]
  },
  {
   "cell_type": "code",
   "execution_count": 428,
   "metadata": {},
   "outputs": [],
   "source": [
    "y_predict=base_model.predict(X_test)"
   ]
  },
  {
   "cell_type": "code",
   "execution_count": 431,
   "metadata": {},
   "outputs": [],
   "source": [
    "predictions=base_model.predict_proba(X_test)"
   ]
  },
  {
   "cell_type": "code",
   "execution_count": 438,
   "metadata": {
    "scrolled": true
   },
   "outputs": [],
   "source": [
    "#Cannot find roc_auc_score for multiclass problems\n",
    "# from sklearn import metrics\n",
    "# auc = metrics.roc_auc_score(y_test, predictions)"
   ]
  },
  {
   "cell_type": "code",
   "execution_count": 444,
   "metadata": {},
   "outputs": [],
   "source": [
    "# from sklearn.metrics import roc_auc_score\n",
    "# roc = {label: [] for label in np.unique(y_train)}\n",
    "# for label in np.unique(y_train):\n",
    "#     clf.fit(X_train, y_train == label)\n",
    "#     predictions_proba = clf.predict_proba(X_test)\n",
    "#     roc[label] += roc_auc_score(y_test, predictions_proba[:,label])\n",
    "    \n"
   ]
  },
  {
   "cell_type": "code",
   "execution_count": 440,
   "metadata": {},
   "outputs": [
    {
     "name": "stderr",
     "output_type": "stream",
     "text": [
      "/Users/chidam/anaconda/lib/python3.5/site-packages/sklearn/metrics/classification.py:1135: UndefinedMetricWarning: F-score is ill-defined and being set to 0.0 in labels with no predicted samples.\n",
      "  'precision', 'predicted', average, warn_for)\n"
     ]
    },
    {
     "data": {
      "text/plain": [
       "0.8251081357619214"
      ]
     },
     "execution_count": 440,
     "metadata": {},
     "output_type": "execute_result"
    }
   ],
   "source": [
    "from sklearn.metrics import f1_score\n",
    "f1_score(y_test, y_predict, average='weighted')  "
   ]
  },
  {
   "cell_type": "code",
   "execution_count": 443,
   "metadata": {},
   "outputs": [],
   "source": [
    "# from sklearn.metrics import precision_recall_curve\n",
    "# import matplotlib.pyplot as plt\n",
    "# precision, recall, _ = precision_recall_curve(y_test, y_predict)\n",
    "# # step_kwargs = ({'step': 'post'}\n",
    "#                if 'step' in signature(plt.fill_between).parameters\n",
    "#                else {})\n",
    "# plt.step(recall, precision, color='b', alpha=0.2,\n",
    "#          where='post')\n",
    "# plt.fill_between(recall, precision, alpha=0.2, color='b', **step_kwargs)\n",
    "\n",
    "# plt.xlabel('Recall')\n",
    "# plt.ylabel('Precision')\n",
    "# plt.show()"
   ]
  }
 ],
 "metadata": {
  "kernelspec": {
   "display_name": "Python [conda root]",
   "language": "python",
   "name": "conda-root-py"
  },
  "language_info": {
   "codemirror_mode": {
    "name": "ipython",
    "version": 3
   },
   "file_extension": ".py",
   "mimetype": "text/x-python",
   "name": "python",
   "nbconvert_exporter": "python",
   "pygments_lexer": "ipython3",
   "version": "3.5.6"
  }
 },
 "nbformat": 4,
 "nbformat_minor": 2
}
